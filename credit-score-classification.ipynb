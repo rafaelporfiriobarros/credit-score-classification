{
 "cells": [
  {
   "cell_type": "markdown",
   "metadata": {},
   "source": [
    "<img src=\"images/dataset-cover.jpg\" width=796 height=400 />"
   ]
  },
  {
   "cell_type": "markdown",
   "metadata": {},
   "source": [
    "# Sobre o conjunto de dados"
   ]
  },
  {
   "cell_type": "markdown",
   "metadata": {},
   "source": [
    "## Declaração do problema"
   ]
  },
  {
   "cell_type": "markdown",
   "metadata": {},
   "source": [
    "Você está trabalhando como cientista de dados em uma empresa financeira global. Ao longo dos anos, a empresa coletou dados bancários básicos e muitas informações relacionadas ao crédito. A gestão quer construir um sistema inteligente para segregar as pessoas em faixas de pontuação de crédito para reduzir os esforços manuais."
   ]
  },
  {
   "cell_type": "markdown",
   "metadata": {},
   "source": [
    "## Tarefa"
   ]
  },
  {
   "cell_type": "markdown",
   "metadata": {},
   "source": [
    "Dadas as informações relacionadas ao crédito de uma pessoa, construir um modelo de aprendizado de máquina que possa classificar a pontuação de crédito."
   ]
  },
  {
   "cell_type": "markdown",
   "metadata": {},
   "source": [
    "### Importação das Bibliotecas"
   ]
  },
  {
   "cell_type": "code",
   "execution_count": 1,
   "metadata": {},
   "outputs": [],
   "source": [
    "# BIBLIOTECAS\n",
    "import pandas as pd\n",
    "import numpy as np\n",
    "import warnings\n",
    "import seaborn as sns\n",
    "import matplotlib.pyplot as plt"
   ]
  },
  {
   "cell_type": "markdown",
   "metadata": {},
   "source": [
    "### Configurações"
   ]
  },
  {
   "cell_type": "code",
   "execution_count": 2,
   "metadata": {},
   "outputs": [],
   "source": [
    "# Mostra todas as colunas do dataset\n",
    "pd.set_option('display.max_columns', None)\n",
    "\n",
    "# Desabilita os avisos - warnings\n",
    "warnings.filterwarnings(\"ignore\")"
   ]
  },
  {
   "cell_type": "markdown",
   "metadata": {},
   "source": [
    "### Carregamento dos datasets"
   ]
  },
  {
   "cell_type": "code",
   "execution_count": 3,
   "metadata": {},
   "outputs": [],
   "source": [
    "train = pd.read_csv('datasets/train.csv', low_memory=False)\n",
    "test = pd.read_csv('datasets/test.csv', low_memory=False)"
   ]
  },
  {
   "cell_type": "markdown",
   "metadata": {},
   "source": [
    "### Visualização dos Datasets"
   ]
  },
  {
   "cell_type": "code",
   "execution_count": 4,
   "metadata": {},
   "outputs": [
    {
     "data": {
      "text/html": [
       "<div>\n",
       "<style scoped>\n",
       "    .dataframe tbody tr th:only-of-type {\n",
       "        vertical-align: middle;\n",
       "    }\n",
       "\n",
       "    .dataframe tbody tr th {\n",
       "        vertical-align: top;\n",
       "    }\n",
       "\n",
       "    .dataframe thead th {\n",
       "        text-align: right;\n",
       "    }\n",
       "</style>\n",
       "<table border=\"1\" class=\"dataframe\">\n",
       "  <thead>\n",
       "    <tr style=\"text-align: right;\">\n",
       "      <th></th>\n",
       "      <th>ID</th>\n",
       "      <th>Customer_ID</th>\n",
       "      <th>Month</th>\n",
       "      <th>Name</th>\n",
       "      <th>Age</th>\n",
       "      <th>SSN</th>\n",
       "      <th>Occupation</th>\n",
       "      <th>Annual_Income</th>\n",
       "      <th>Monthly_Inhand_Salary</th>\n",
       "      <th>Num_Bank_Accounts</th>\n",
       "      <th>Num_Credit_Card</th>\n",
       "      <th>Interest_Rate</th>\n",
       "      <th>Num_of_Loan</th>\n",
       "      <th>Type_of_Loan</th>\n",
       "      <th>Delay_from_due_date</th>\n",
       "      <th>Num_of_Delayed_Payment</th>\n",
       "      <th>Changed_Credit_Limit</th>\n",
       "      <th>Num_Credit_Inquiries</th>\n",
       "      <th>Credit_Mix</th>\n",
       "      <th>Outstanding_Debt</th>\n",
       "      <th>Credit_Utilization_Ratio</th>\n",
       "      <th>Credit_History_Age</th>\n",
       "      <th>Payment_of_Min_Amount</th>\n",
       "      <th>Total_EMI_per_month</th>\n",
       "      <th>Amount_invested_monthly</th>\n",
       "      <th>Payment_Behaviour</th>\n",
       "      <th>Monthly_Balance</th>\n",
       "      <th>Credit_Score</th>\n",
       "    </tr>\n",
       "  </thead>\n",
       "  <tbody>\n",
       "    <tr>\n",
       "      <th>0</th>\n",
       "      <td>0x1602</td>\n",
       "      <td>CUS_0xd40</td>\n",
       "      <td>January</td>\n",
       "      <td>Aaron Maashoh</td>\n",
       "      <td>23</td>\n",
       "      <td>821-00-0265</td>\n",
       "      <td>Scientist</td>\n",
       "      <td>19114.12</td>\n",
       "      <td>1824.843333</td>\n",
       "      <td>3</td>\n",
       "      <td>4</td>\n",
       "      <td>3</td>\n",
       "      <td>4</td>\n",
       "      <td>Auto Loan, Credit-Builder Loan, Personal Loan,...</td>\n",
       "      <td>3</td>\n",
       "      <td>7</td>\n",
       "      <td>11.27</td>\n",
       "      <td>4.0</td>\n",
       "      <td>_</td>\n",
       "      <td>809.98</td>\n",
       "      <td>26.82262</td>\n",
       "      <td>22 Years and 1 Months</td>\n",
       "      <td>No</td>\n",
       "      <td>49.574949</td>\n",
       "      <td>80.41529543900253</td>\n",
       "      <td>High_spent_Small_value_payments</td>\n",
       "      <td>312.49408867943663</td>\n",
       "      <td>Good</td>\n",
       "    </tr>\n",
       "  </tbody>\n",
       "</table>\n",
       "</div>"
      ],
      "text/plain": [
       "       ID Customer_ID    Month           Name Age          SSN Occupation  \\\n",
       "0  0x1602   CUS_0xd40  January  Aaron Maashoh  23  821-00-0265  Scientist   \n",
       "\n",
       "  Annual_Income  Monthly_Inhand_Salary  Num_Bank_Accounts  Num_Credit_Card  \\\n",
       "0      19114.12            1824.843333                  3                4   \n",
       "\n",
       "   Interest_Rate Num_of_Loan  \\\n",
       "0              3           4   \n",
       "\n",
       "                                        Type_of_Loan  Delay_from_due_date  \\\n",
       "0  Auto Loan, Credit-Builder Loan, Personal Loan,...                    3   \n",
       "\n",
       "  Num_of_Delayed_Payment Changed_Credit_Limit  Num_Credit_Inquiries  \\\n",
       "0                      7                11.27                   4.0   \n",
       "\n",
       "  Credit_Mix Outstanding_Debt  Credit_Utilization_Ratio  \\\n",
       "0          _           809.98                  26.82262   \n",
       "\n",
       "      Credit_History_Age Payment_of_Min_Amount  Total_EMI_per_month  \\\n",
       "0  22 Years and 1 Months                    No            49.574949   \n",
       "\n",
       "  Amount_invested_monthly                Payment_Behaviour  \\\n",
       "0       80.41529543900253  High_spent_Small_value_payments   \n",
       "\n",
       "      Monthly_Balance Credit_Score  \n",
       "0  312.49408867943663         Good  "
      ]
     },
     "execution_count": 4,
     "metadata": {},
     "output_type": "execute_result"
    }
   ],
   "source": [
    "train.head(1)"
   ]
  },
  {
   "cell_type": "code",
   "execution_count": 5,
   "metadata": {},
   "outputs": [
    {
     "data": {
      "text/html": [
       "<div>\n",
       "<style scoped>\n",
       "    .dataframe tbody tr th:only-of-type {\n",
       "        vertical-align: middle;\n",
       "    }\n",
       "\n",
       "    .dataframe tbody tr th {\n",
       "        vertical-align: top;\n",
       "    }\n",
       "\n",
       "    .dataframe thead th {\n",
       "        text-align: right;\n",
       "    }\n",
       "</style>\n",
       "<table border=\"1\" class=\"dataframe\">\n",
       "  <thead>\n",
       "    <tr style=\"text-align: right;\">\n",
       "      <th></th>\n",
       "      <th>ID</th>\n",
       "      <th>Customer_ID</th>\n",
       "      <th>Month</th>\n",
       "      <th>Name</th>\n",
       "      <th>Age</th>\n",
       "      <th>SSN</th>\n",
       "      <th>Occupation</th>\n",
       "      <th>Annual_Income</th>\n",
       "      <th>Monthly_Inhand_Salary</th>\n",
       "      <th>Num_Bank_Accounts</th>\n",
       "      <th>Num_Credit_Card</th>\n",
       "      <th>Interest_Rate</th>\n",
       "      <th>Num_of_Loan</th>\n",
       "      <th>Type_of_Loan</th>\n",
       "      <th>Delay_from_due_date</th>\n",
       "      <th>Num_of_Delayed_Payment</th>\n",
       "      <th>Changed_Credit_Limit</th>\n",
       "      <th>Num_Credit_Inquiries</th>\n",
       "      <th>Credit_Mix</th>\n",
       "      <th>Outstanding_Debt</th>\n",
       "      <th>Credit_Utilization_Ratio</th>\n",
       "      <th>Credit_History_Age</th>\n",
       "      <th>Payment_of_Min_Amount</th>\n",
       "      <th>Total_EMI_per_month</th>\n",
       "      <th>Amount_invested_monthly</th>\n",
       "      <th>Payment_Behaviour</th>\n",
       "      <th>Monthly_Balance</th>\n",
       "    </tr>\n",
       "  </thead>\n",
       "  <tbody>\n",
       "    <tr>\n",
       "      <th>0</th>\n",
       "      <td>0x160a</td>\n",
       "      <td>CUS_0xd40</td>\n",
       "      <td>September</td>\n",
       "      <td>Aaron Maashoh</td>\n",
       "      <td>23</td>\n",
       "      <td>821-00-0265</td>\n",
       "      <td>Scientist</td>\n",
       "      <td>19114.12</td>\n",
       "      <td>1824.843333</td>\n",
       "      <td>3</td>\n",
       "      <td>4</td>\n",
       "      <td>3</td>\n",
       "      <td>4</td>\n",
       "      <td>Auto Loan, Credit-Builder Loan, Personal Loan,...</td>\n",
       "      <td>3</td>\n",
       "      <td>7</td>\n",
       "      <td>11.27</td>\n",
       "      <td>2022.0</td>\n",
       "      <td>Good</td>\n",
       "      <td>809.98</td>\n",
       "      <td>35.030402</td>\n",
       "      <td>22 Years and 9 Months</td>\n",
       "      <td>No</td>\n",
       "      <td>49.574949</td>\n",
       "      <td>236.64268203272135</td>\n",
       "      <td>Low_spent_Small_value_payments</td>\n",
       "      <td>186.26670208571772</td>\n",
       "    </tr>\n",
       "  </tbody>\n",
       "</table>\n",
       "</div>"
      ],
      "text/plain": [
       "       ID Customer_ID      Month           Name Age          SSN Occupation  \\\n",
       "0  0x160a   CUS_0xd40  September  Aaron Maashoh  23  821-00-0265  Scientist   \n",
       "\n",
       "  Annual_Income  Monthly_Inhand_Salary  Num_Bank_Accounts  Num_Credit_Card  \\\n",
       "0      19114.12            1824.843333                  3                4   \n",
       "\n",
       "   Interest_Rate Num_of_Loan  \\\n",
       "0              3           4   \n",
       "\n",
       "                                        Type_of_Loan  Delay_from_due_date  \\\n",
       "0  Auto Loan, Credit-Builder Loan, Personal Loan,...                    3   \n",
       "\n",
       "  Num_of_Delayed_Payment Changed_Credit_Limit  Num_Credit_Inquiries  \\\n",
       "0                      7                11.27                2022.0   \n",
       "\n",
       "  Credit_Mix Outstanding_Debt  Credit_Utilization_Ratio  \\\n",
       "0       Good           809.98                 35.030402   \n",
       "\n",
       "      Credit_History_Age Payment_of_Min_Amount  Total_EMI_per_month  \\\n",
       "0  22 Years and 9 Months                    No            49.574949   \n",
       "\n",
       "  Amount_invested_monthly               Payment_Behaviour     Monthly_Balance  \n",
       "0      236.64268203272135  Low_spent_Small_value_payments  186.26670208571772  "
      ]
     },
     "execution_count": 5,
     "metadata": {},
     "output_type": "execute_result"
    }
   ],
   "source": [
    "test.head(1)"
   ]
  },
  {
   "cell_type": "markdown",
   "metadata": {},
   "source": [
    "- Os datasets train e test são idênticos, ou seja, eles já estão separados corretamente para o uso da criação dos modelos de Machine Learning.\n"
   ]
  },
  {
   "cell_type": "markdown",
   "metadata": {},
   "source": [
    "### Informações do Datasets"
   ]
  },
  {
   "cell_type": "code",
   "execution_count": 6,
   "metadata": {},
   "outputs": [
    {
     "name": "stdout",
     "output_type": "stream",
     "text": [
      "Quantidade de dados em train:  100000\n",
      "Quantidade de variáveis em train:  28\n",
      "------------------------------------\n",
      "Quantidade de dados em test:  50000\n",
      "Quantidade de variáveis em test:  27\n"
     ]
    }
   ],
   "source": [
    "# Dimensão das linhas e variáveis dos Datasets\n",
    "print('Quantidade de dados em train: ', train.shape[0])\n",
    "print('Quantidade de variáveis em train: ', train.shape[1])\n",
    "print('------------------------------------')\n",
    "print('Quantidade de dados em test: ', test.shape[0])\n",
    "print('Quantidade de variáveis em test: ', test.shape[1])"
   ]
  },
  {
   "cell_type": "code",
   "execution_count": 7,
   "metadata": {},
   "outputs": [
    {
     "name": "stdout",
     "output_type": "stream",
     "text": [
      "<class 'pandas.core.frame.DataFrame'>\n",
      "RangeIndex: 100000 entries, 0 to 99999\n",
      "Data columns (total 28 columns):\n",
      " #   Column                    Non-Null Count   Dtype  \n",
      "---  ------                    --------------   -----  \n",
      " 0   ID                        100000 non-null  object \n",
      " 1   Customer_ID               100000 non-null  object \n",
      " 2   Month                     100000 non-null  object \n",
      " 3   Name                      90015 non-null   object \n",
      " 4   Age                       100000 non-null  object \n",
      " 5   SSN                       100000 non-null  object \n",
      " 6   Occupation                100000 non-null  object \n",
      " 7   Annual_Income             100000 non-null  object \n",
      " 8   Monthly_Inhand_Salary     84998 non-null   float64\n",
      " 9   Num_Bank_Accounts         100000 non-null  int64  \n",
      " 10  Num_Credit_Card           100000 non-null  int64  \n",
      " 11  Interest_Rate             100000 non-null  int64  \n",
      " 12  Num_of_Loan               100000 non-null  object \n",
      " 13  Type_of_Loan              88592 non-null   object \n",
      " 14  Delay_from_due_date       100000 non-null  int64  \n",
      " 15  Num_of_Delayed_Payment    92998 non-null   object \n",
      " 16  Changed_Credit_Limit      100000 non-null  object \n",
      " 17  Num_Credit_Inquiries      98035 non-null   float64\n",
      " 18  Credit_Mix                100000 non-null  object \n",
      " 19  Outstanding_Debt          100000 non-null  object \n",
      " 20  Credit_Utilization_Ratio  100000 non-null  float64\n",
      " 21  Credit_History_Age        90970 non-null   object \n",
      " 22  Payment_of_Min_Amount     100000 non-null  object \n",
      " 23  Total_EMI_per_month       100000 non-null  float64\n",
      " 24  Amount_invested_monthly   95521 non-null   object \n",
      " 25  Payment_Behaviour         100000 non-null  object \n",
      " 26  Monthly_Balance           98800 non-null   object \n",
      " 27  Credit_Score              100000 non-null  object \n",
      "dtypes: float64(4), int64(4), object(20)\n",
      "memory usage: 21.4+ MB\n"
     ]
    }
   ],
   "source": [
    "# Infos train\n",
    "train.info()"
   ]
  },
  {
   "cell_type": "code",
   "execution_count": 8,
   "metadata": {},
   "outputs": [
    {
     "name": "stdout",
     "output_type": "stream",
     "text": [
      "<class 'pandas.core.frame.DataFrame'>\n",
      "RangeIndex: 50000 entries, 0 to 49999\n",
      "Data columns (total 27 columns):\n",
      " #   Column                    Non-Null Count  Dtype  \n",
      "---  ------                    --------------  -----  \n",
      " 0   ID                        50000 non-null  object \n",
      " 1   Customer_ID               50000 non-null  object \n",
      " 2   Month                     50000 non-null  object \n",
      " 3   Name                      44985 non-null  object \n",
      " 4   Age                       50000 non-null  object \n",
      " 5   SSN                       50000 non-null  object \n",
      " 6   Occupation                50000 non-null  object \n",
      " 7   Annual_Income             50000 non-null  object \n",
      " 8   Monthly_Inhand_Salary     42502 non-null  float64\n",
      " 9   Num_Bank_Accounts         50000 non-null  int64  \n",
      " 10  Num_Credit_Card           50000 non-null  int64  \n",
      " 11  Interest_Rate             50000 non-null  int64  \n",
      " 12  Num_of_Loan               50000 non-null  object \n",
      " 13  Type_of_Loan              44296 non-null  object \n",
      " 14  Delay_from_due_date       50000 non-null  int64  \n",
      " 15  Num_of_Delayed_Payment    46502 non-null  object \n",
      " 16  Changed_Credit_Limit      50000 non-null  object \n",
      " 17  Num_Credit_Inquiries      48965 non-null  float64\n",
      " 18  Credit_Mix                50000 non-null  object \n",
      " 19  Outstanding_Debt          50000 non-null  object \n",
      " 20  Credit_Utilization_Ratio  50000 non-null  float64\n",
      " 21  Credit_History_Age        45530 non-null  object \n",
      " 22  Payment_of_Min_Amount     50000 non-null  object \n",
      " 23  Total_EMI_per_month       50000 non-null  float64\n",
      " 24  Amount_invested_monthly   47729 non-null  object \n",
      " 25  Payment_Behaviour         50000 non-null  object \n",
      " 26  Monthly_Balance           49438 non-null  object \n",
      "dtypes: float64(4), int64(4), object(19)\n",
      "memory usage: 10.3+ MB\n"
     ]
    }
   ],
   "source": [
    "# Infos test                                                \n",
    "test.info()"
   ]
  },
  {
   "cell_type": "markdown",
   "metadata": {},
   "source": [
    "###  Missing Values"
   ]
  },
  {
   "cell_type": "code",
   "execution_count": 9,
   "metadata": {},
   "outputs": [
    {
     "data": {
      "text/plain": [
       "ID                           0.000\n",
       "Customer_ID                  0.000\n",
       "Month                        0.000\n",
       "Name                         9.985\n",
       "Age                          0.000\n",
       "SSN                          0.000\n",
       "Occupation                   0.000\n",
       "Annual_Income                0.000\n",
       "Monthly_Inhand_Salary       15.002\n",
       "Num_Bank_Accounts            0.000\n",
       "Num_Credit_Card              0.000\n",
       "Interest_Rate                0.000\n",
       "Num_of_Loan                  0.000\n",
       "Type_of_Loan                11.408\n",
       "Delay_from_due_date          0.000\n",
       "Num_of_Delayed_Payment       7.002\n",
       "Changed_Credit_Limit         0.000\n",
       "Num_Credit_Inquiries         1.965\n",
       "Credit_Mix                   0.000\n",
       "Outstanding_Debt             0.000\n",
       "Credit_Utilization_Ratio     0.000\n",
       "Credit_History_Age           9.030\n",
       "Payment_of_Min_Amount        0.000\n",
       "Total_EMI_per_month          0.000\n",
       "Amount_invested_monthly      4.479\n",
       "Payment_Behaviour            0.000\n",
       "Monthly_Balance              1.200\n",
       "Credit_Score                 0.000\n",
       "dtype: float64"
      ]
     },
     "execution_count": 9,
     "metadata": {},
     "output_type": "execute_result"
    }
   ],
   "source": [
    "train.isna().sum() / len(train) * 100"
   ]
  },
  {
   "cell_type": "code",
   "execution_count": 10,
   "metadata": {},
   "outputs": [
    {
     "data": {
      "text/plain": [
       "ID                          0.000\n",
       "Customer_ID                 0.000\n",
       "Month                       0.000\n",
       "Name                        5.015\n",
       "Age                         0.000\n",
       "SSN                         0.000\n",
       "Occupation                  0.000\n",
       "Annual_Income               0.000\n",
       "Monthly_Inhand_Salary       7.498\n",
       "Num_Bank_Accounts           0.000\n",
       "Num_Credit_Card             0.000\n",
       "Interest_Rate               0.000\n",
       "Num_of_Loan                 0.000\n",
       "Type_of_Loan                5.704\n",
       "Delay_from_due_date         0.000\n",
       "Num_of_Delayed_Payment      3.498\n",
       "Changed_Credit_Limit        0.000\n",
       "Num_Credit_Inquiries        1.035\n",
       "Credit_Mix                  0.000\n",
       "Outstanding_Debt            0.000\n",
       "Credit_Utilization_Ratio    0.000\n",
       "Credit_History_Age          4.470\n",
       "Payment_of_Min_Amount       0.000\n",
       "Total_EMI_per_month         0.000\n",
       "Amount_invested_monthly     2.271\n",
       "Payment_Behaviour           0.000\n",
       "Monthly_Balance             0.562\n",
       "dtype: float64"
      ]
     },
     "execution_count": 10,
     "metadata": {},
     "output_type": "execute_result"
    }
   ],
   "source": [
    "test.isna().sum() / len(train) * 100"
   ]
  },
  {
   "cell_type": "markdown",
   "metadata": {},
   "source": [
    "- Temos valores ausentes (Missing Values) nos Datasets.\n",
    "- Possiveis variáveis com dtypes diferentes nos Datasets."
   ]
  },
  {
   "cell_type": "markdown",
   "metadata": {},
   "source": [
    "### Renomear as colunas"
   ]
  },
  {
   "cell_type": "code",
   "execution_count": 11,
   "metadata": {},
   "outputs": [],
   "source": [
    "lst_columns = {'Customer_ID':'id_cliente',\n",
    "               'Month':'mes',\n",
    "               'Name':'nome',\n",
    "               'Age':'idade',\n",
    "               'SSN':'cpf',\n",
    "               'Occupation':'profissao',\n",
    "               'Annual_Income':'renda_anual',\n",
    "               'Monthly_Inhand_Salary':'salario_mensal',\n",
    "               'Num_Bank_Accounts':'numero_de_contas_bancarias',\n",
    "               'Num_Credit_Card':'numero_de_cartoes_de_credito',\n",
    "               'Interest_Rate':'taxa_de_juro',\n",
    "               'Num_of_Loan':'numero_de_emprestimos',\n",
    "               'Type_of_Loan':'tipo_de_emprestimo',\n",
    "               'Delay_from_due_date':'atraso_na_data_de_vencimento',\n",
    "               'Num_of_Delayed_Payment':'numero_de_atrasos_de_pagamento',\n",
    "               'Changed_Credit_Limit':'limite_de_credito_alterado',\n",
    "               'Num_Credit_Inquiries':'numero_de_consultas_de_credito',\n",
    "               'Credit_Mix':'mix_de_credito',\n",
    "               'Outstanding_Debt':'divida_a_pagar',\n",
    "               'Credit_Utilization_Ratio':'taxa_de_utilizacao_de_credito',\n",
    "               'Credit_History_Age':'tempo_do_historico_de_credito',\n",
    "               'Payment_of_Min_Amount':'pagamento_do_valor_minimo',\n",
    "               'Total_EMI_per_month':'total_por_mes_parcelas_mensais_faceis_emi',\n",
    "               'Amount_invested_monthly':'valor_investido_mensalmente',\n",
    "               'Payment_Behaviour':'comportamento_do_pagamento',\n",
    "               'Monthly_Balance':'saldo_mensal',\n",
    "               'Credit_Score':'pontuacao_de_credito'\n",
    "               }"
   ]
  },
  {
   "cell_type": "code",
   "execution_count": 12,
   "metadata": {},
   "outputs": [],
   "source": [
    "train.rename(\n",
    "    columns = lst_columns, inplace = True\n",
    ")"
   ]
  },
  {
   "cell_type": "code",
   "execution_count": 13,
   "metadata": {},
   "outputs": [],
   "source": [
    "test.rename(\n",
    "    columns = lst_columns, inplace = True\n",
    ")"
   ]
  },
  {
   "cell_type": "markdown",
   "metadata": {},
   "source": [
    "### Alterar os tipos das colunas nos Datasets"
   ]
  },
  {
   "cell_type": "code",
   "execution_count": 14,
   "metadata": {},
   "outputs": [],
   "source": [
    "# Lista das colunas para conversão\n",
    "lst_columns_to_change = ['idade', 'renda_anual', \n",
    "                      'numero_de_emprestimos', 'numero_de_atrasos_de_pagamento',\n",
    "                      'limite_de_credito_alterado', 'divida_a_pagar', 'valor_investido_mensalmente',\n",
    "                      'saldo_mensal']\n",
    "\n",
    "# loop para percorrer a partir da lista lst_columns_to_change os datasets e mudar o tipo das colunas train e test\n",
    "\n",
    "# train\n",
    "for i_train in lst_columns_to_change:\n",
    "    train[i_train] = pd.to_numeric(train[i_train], errors = 'coerce')\n",
    "\n",
    "# test\n",
    "for i_test in lst_columns_to_change:\n",
    "    test[i_test] = pd.to_numeric(test[i_test], errors = 'coerce')\n",
    "    \n",
    "\n",
    "# aqui foi mudado individualmente a coluna idade para o formato int64\n",
    "train['idade'] = train['idade'].astype('Int64')\n",
    "test['idade'] = test['idade'].astype('Int64')\n"
   ]
  },
  {
   "cell_type": "markdown",
   "metadata": {},
   "source": [
    "## Análise Exploratória dos Dados"
   ]
  },
  {
   "cell_type": "markdown",
   "metadata": {},
   "source": [
    "### Análise Univariada"
   ]
  },
  {
   "cell_type": "markdown",
   "metadata": {},
   "source": [
    "#### 1. Qual é a distribuição dos meses dos clientes?"
   ]
  },
  {
   "cell_type": "code",
   "execution_count": 15,
   "metadata": {},
   "outputs": [
    {
     "data": {
      "text/plain": [
       "January     12500\n",
       "February    12500\n",
       "March       12500\n",
       "April       12500\n",
       "May         12500\n",
       "June        12500\n",
       "July        12500\n",
       "August      12500\n",
       "Name: mes, dtype: int64"
      ]
     },
     "execution_count": 15,
     "metadata": {},
     "output_type": "execute_result"
    }
   ],
   "source": [
    "train.mes.value_counts()"
   ]
  },
  {
   "cell_type": "markdown",
   "metadata": {},
   "source": [
    "- Como meses são variáveis qualitativas ordinais, seria ideal ordenar numericamente cada mês. "
   ]
  },
  {
   "cell_type": "code",
   "execution_count": 16,
   "metadata": {},
   "outputs": [],
   "source": [
    "month_map = { 'January':1,\n",
    "              'February':2,\n",
    "              'March':3,\n",
    "              'April':4,\n",
    "              'May':5,\n",
    "              'June':6,\n",
    "              'july':7,\n",
    "              'August':8}\n",
    "\n",
    "train['mes'] = train['mes'].map(month_map)\n",
    "test['mes'] = test['mes'].map(month_map)\n",
    "\n",
    "train['mes'] = pd.to_numeric(train['mes'], errors = 'coerce').astype('Int64')\n",
    "test['mes'] = pd.to_numeric(test['mes'], errors = 'coerce').astype('Int64')"
   ]
  },
  {
   "cell_type": "code",
   "execution_count": 17,
   "metadata": {},
   "outputs": [
    {
     "data": {
      "text/plain": [
       "1    12500\n",
       "2    12500\n",
       "3    12500\n",
       "4    12500\n",
       "5    12500\n",
       "6    12500\n",
       "8    12500\n",
       "Name: mes, dtype: Int64"
      ]
     },
     "execution_count": 17,
     "metadata": {},
     "output_type": "execute_result"
    }
   ],
   "source": [
    "train.mes.value_counts()"
   ]
  },
  {
   "cell_type": "markdown",
   "metadata": {},
   "source": [
    "- São 12.500 valores em cada mês de Janeiro até o mês de Agosto."
   ]
  },
  {
   "cell_type": "markdown",
   "metadata": {},
   "source": [
    "#### 2. Qual é a distribuição da idade dos clientes?"
   ]
  },
  {
   "cell_type": "code",
   "execution_count": 23,
   "metadata": {},
   "outputs": [
    {
     "data": {
      "text/plain": [
       "38      2833\n",
       "28      2829\n",
       "31      2806\n",
       "26      2792\n",
       "32      2749\n",
       "        ... \n",
       "7178       1\n",
       "5621       1\n",
       "1908       1\n",
       "3023       1\n",
       "1342       1\n",
       "Name: idade, Length: 1661, dtype: Int64"
      ]
     },
     "execution_count": 23,
     "metadata": {},
     "output_type": "execute_result"
    }
   ],
   "source": [
    "train.idade.value_counts().sort_values(ascending = False)"
   ]
  },
  {
   "cell_type": "markdown",
   "metadata": {},
   "source": [
    "- Temos idades fora da realidade, ex: 1342, 669, 2620, será preciso entender melhor o que acontece."
   ]
  },
  {
   "cell_type": "code",
   "execution_count": 18,
   "metadata": {},
   "outputs": [
    {
     "data": {
      "text/plain": [
       "<IntegerArray>\n",
       "[  23, -500, <NA>,   28,   34,   54,   55,   21,   31,   33,\n",
       " ...\n",
       " 6135,  920, 4402, 8490, 2406, 8315, 8425, 6476, 2263, 1342]\n",
       "Length: 1662, dtype: Int64"
      ]
     },
     "execution_count": 18,
     "metadata": {},
     "output_type": "execute_result"
    }
   ],
   "source": [
    "train.idade.unique()"
   ]
  },
  {
   "cell_type": "code",
   "execution_count": 20,
   "metadata": {},
   "outputs": [
    {
     "data": {
      "text/plain": [
       "8698"
      ]
     },
     "execution_count": 20,
     "metadata": {},
     "output_type": "execute_result"
    }
   ],
   "source": [
    "train.idade.max()"
   ]
  },
  {
   "cell_type": "code",
   "execution_count": 21,
   "metadata": {},
   "outputs": [
    {
     "data": {
      "text/plain": [
       "-500"
      ]
     },
     "execution_count": 21,
     "metadata": {},
     "output_type": "execute_result"
    }
   ],
   "source": [
    "train.idade.min()"
   ]
  },
  {
   "cell_type": "markdown",
   "metadata": {},
   "source": [
    "- Há valores sem sentido na coluna idade, mas utilizando o value_counts a idade 38 apareceu com mais frequência."
   ]
  },
  {
   "cell_type": "code",
   "execution_count": 24,
   "metadata": {},
   "outputs": [
    {
     "data": {
      "text/html": [
       "<div>\n",
       "<style scoped>\n",
       "    .dataframe tbody tr th:only-of-type {\n",
       "        vertical-align: middle;\n",
       "    }\n",
       "\n",
       "    .dataframe tbody tr th {\n",
       "        vertical-align: top;\n",
       "    }\n",
       "\n",
       "    .dataframe thead th {\n",
       "        text-align: right;\n",
       "    }\n",
       "</style>\n",
       "<table border=\"1\" class=\"dataframe\">\n",
       "  <thead>\n",
       "    <tr style=\"text-align: right;\">\n",
       "      <th></th>\n",
       "      <th>ID</th>\n",
       "      <th>id_cliente</th>\n",
       "      <th>mes</th>\n",
       "      <th>nome</th>\n",
       "      <th>idade</th>\n",
       "      <th>cpf</th>\n",
       "      <th>profissao</th>\n",
       "      <th>renda_anual</th>\n",
       "      <th>salario_mensal</th>\n",
       "      <th>numero_de_contas_bancarias</th>\n",
       "      <th>numero_de_cartoes_de_credito</th>\n",
       "      <th>taxa_de_juro</th>\n",
       "      <th>numero_de_emprestimos</th>\n",
       "      <th>tipo_de_emprestimo</th>\n",
       "      <th>atraso_na_data_de_vencimento</th>\n",
       "      <th>numero_de_atrasos_de_pagamento</th>\n",
       "      <th>limite_de_credito_alterado</th>\n",
       "      <th>numero_de_consultas_de_credito</th>\n",
       "      <th>mix_de_credito</th>\n",
       "      <th>divida_a_pagar</th>\n",
       "      <th>taxa_de_utilizacao_de_credito</th>\n",
       "      <th>tempo_do_historico_de_credito</th>\n",
       "      <th>pagamento_do_valor_minimo</th>\n",
       "      <th>total_por_mes_parcelas_mensais_faceis_emi</th>\n",
       "      <th>valor_investido_mensalmente</th>\n",
       "      <th>comportamento_do_pagamento</th>\n",
       "      <th>saldo_mensal</th>\n",
       "      <th>pontuacao_de_credito</th>\n",
       "    </tr>\n",
       "  </thead>\n",
       "  <tbody>\n",
       "    <tr>\n",
       "      <th>0</th>\n",
       "      <td>0x1602</td>\n",
       "      <td>CUS_0xd40</td>\n",
       "      <td>1</td>\n",
       "      <td>Aaron Maashoh</td>\n",
       "      <td>23</td>\n",
       "      <td>821-00-0265</td>\n",
       "      <td>Scientist</td>\n",
       "      <td>19114.12</td>\n",
       "      <td>1824.843333</td>\n",
       "      <td>3</td>\n",
       "      <td>4</td>\n",
       "      <td>3</td>\n",
       "      <td>4.0</td>\n",
       "      <td>Auto Loan, Credit-Builder Loan, Personal Loan,...</td>\n",
       "      <td>3</td>\n",
       "      <td>7.0</td>\n",
       "      <td>11.27</td>\n",
       "      <td>4.0</td>\n",
       "      <td>_</td>\n",
       "      <td>809.98</td>\n",
       "      <td>26.822620</td>\n",
       "      <td>22 Years and 1 Months</td>\n",
       "      <td>No</td>\n",
       "      <td>49.574949</td>\n",
       "      <td>80.415295</td>\n",
       "      <td>High_spent_Small_value_payments</td>\n",
       "      <td>312.494089</td>\n",
       "      <td>Good</td>\n",
       "    </tr>\n",
       "    <tr>\n",
       "      <th>1</th>\n",
       "      <td>0x1603</td>\n",
       "      <td>CUS_0xd40</td>\n",
       "      <td>2</td>\n",
       "      <td>Aaron Maashoh</td>\n",
       "      <td>23</td>\n",
       "      <td>821-00-0265</td>\n",
       "      <td>Scientist</td>\n",
       "      <td>19114.12</td>\n",
       "      <td>NaN</td>\n",
       "      <td>3</td>\n",
       "      <td>4</td>\n",
       "      <td>3</td>\n",
       "      <td>4.0</td>\n",
       "      <td>Auto Loan, Credit-Builder Loan, Personal Loan,...</td>\n",
       "      <td>-1</td>\n",
       "      <td>NaN</td>\n",
       "      <td>11.27</td>\n",
       "      <td>4.0</td>\n",
       "      <td>Good</td>\n",
       "      <td>809.98</td>\n",
       "      <td>31.944960</td>\n",
       "      <td>NaN</td>\n",
       "      <td>No</td>\n",
       "      <td>49.574949</td>\n",
       "      <td>118.280222</td>\n",
       "      <td>Low_spent_Large_value_payments</td>\n",
       "      <td>284.629162</td>\n",
       "      <td>Good</td>\n",
       "    </tr>\n",
       "    <tr>\n",
       "      <th>2</th>\n",
       "      <td>0x1604</td>\n",
       "      <td>CUS_0xd40</td>\n",
       "      <td>3</td>\n",
       "      <td>Aaron Maashoh</td>\n",
       "      <td>-500</td>\n",
       "      <td>821-00-0265</td>\n",
       "      <td>Scientist</td>\n",
       "      <td>19114.12</td>\n",
       "      <td>NaN</td>\n",
       "      <td>3</td>\n",
       "      <td>4</td>\n",
       "      <td>3</td>\n",
       "      <td>4.0</td>\n",
       "      <td>Auto Loan, Credit-Builder Loan, Personal Loan,...</td>\n",
       "      <td>3</td>\n",
       "      <td>7.0</td>\n",
       "      <td>NaN</td>\n",
       "      <td>4.0</td>\n",
       "      <td>Good</td>\n",
       "      <td>809.98</td>\n",
       "      <td>28.609352</td>\n",
       "      <td>22 Years and 3 Months</td>\n",
       "      <td>No</td>\n",
       "      <td>49.574949</td>\n",
       "      <td>81.699521</td>\n",
       "      <td>Low_spent_Medium_value_payments</td>\n",
       "      <td>331.209863</td>\n",
       "      <td>Good</td>\n",
       "    </tr>\n",
       "    <tr>\n",
       "      <th>3</th>\n",
       "      <td>0x1605</td>\n",
       "      <td>CUS_0xd40</td>\n",
       "      <td>4</td>\n",
       "      <td>Aaron Maashoh</td>\n",
       "      <td>23</td>\n",
       "      <td>821-00-0265</td>\n",
       "      <td>Scientist</td>\n",
       "      <td>19114.12</td>\n",
       "      <td>NaN</td>\n",
       "      <td>3</td>\n",
       "      <td>4</td>\n",
       "      <td>3</td>\n",
       "      <td>4.0</td>\n",
       "      <td>Auto Loan, Credit-Builder Loan, Personal Loan,...</td>\n",
       "      <td>5</td>\n",
       "      <td>4.0</td>\n",
       "      <td>6.27</td>\n",
       "      <td>4.0</td>\n",
       "      <td>Good</td>\n",
       "      <td>809.98</td>\n",
       "      <td>31.377862</td>\n",
       "      <td>22 Years and 4 Months</td>\n",
       "      <td>No</td>\n",
       "      <td>49.574949</td>\n",
       "      <td>199.458074</td>\n",
       "      <td>Low_spent_Small_value_payments</td>\n",
       "      <td>223.451310</td>\n",
       "      <td>Good</td>\n",
       "    </tr>\n",
       "    <tr>\n",
       "      <th>4</th>\n",
       "      <td>0x1606</td>\n",
       "      <td>CUS_0xd40</td>\n",
       "      <td>5</td>\n",
       "      <td>Aaron Maashoh</td>\n",
       "      <td>23</td>\n",
       "      <td>821-00-0265</td>\n",
       "      <td>Scientist</td>\n",
       "      <td>19114.12</td>\n",
       "      <td>1824.843333</td>\n",
       "      <td>3</td>\n",
       "      <td>4</td>\n",
       "      <td>3</td>\n",
       "      <td>4.0</td>\n",
       "      <td>Auto Loan, Credit-Builder Loan, Personal Loan,...</td>\n",
       "      <td>6</td>\n",
       "      <td>NaN</td>\n",
       "      <td>11.27</td>\n",
       "      <td>4.0</td>\n",
       "      <td>Good</td>\n",
       "      <td>809.98</td>\n",
       "      <td>24.797347</td>\n",
       "      <td>22 Years and 5 Months</td>\n",
       "      <td>No</td>\n",
       "      <td>49.574949</td>\n",
       "      <td>41.420153</td>\n",
       "      <td>High_spent_Medium_value_payments</td>\n",
       "      <td>341.489231</td>\n",
       "      <td>Good</td>\n",
       "    </tr>\n",
       "  </tbody>\n",
       "</table>\n",
       "</div>"
      ],
      "text/plain": [
       "       ID id_cliente  mes           nome  idade          cpf  profissao  \\\n",
       "0  0x1602  CUS_0xd40    1  Aaron Maashoh     23  821-00-0265  Scientist   \n",
       "1  0x1603  CUS_0xd40    2  Aaron Maashoh     23  821-00-0265  Scientist   \n",
       "2  0x1604  CUS_0xd40    3  Aaron Maashoh   -500  821-00-0265  Scientist   \n",
       "3  0x1605  CUS_0xd40    4  Aaron Maashoh     23  821-00-0265  Scientist   \n",
       "4  0x1606  CUS_0xd40    5  Aaron Maashoh     23  821-00-0265  Scientist   \n",
       "\n",
       "   renda_anual  salario_mensal  numero_de_contas_bancarias  \\\n",
       "0     19114.12     1824.843333                           3   \n",
       "1     19114.12             NaN                           3   \n",
       "2     19114.12             NaN                           3   \n",
       "3     19114.12             NaN                           3   \n",
       "4     19114.12     1824.843333                           3   \n",
       "\n",
       "   numero_de_cartoes_de_credito  taxa_de_juro  numero_de_emprestimos  \\\n",
       "0                             4             3                    4.0   \n",
       "1                             4             3                    4.0   \n",
       "2                             4             3                    4.0   \n",
       "3                             4             3                    4.0   \n",
       "4                             4             3                    4.0   \n",
       "\n",
       "                                  tipo_de_emprestimo  \\\n",
       "0  Auto Loan, Credit-Builder Loan, Personal Loan,...   \n",
       "1  Auto Loan, Credit-Builder Loan, Personal Loan,...   \n",
       "2  Auto Loan, Credit-Builder Loan, Personal Loan,...   \n",
       "3  Auto Loan, Credit-Builder Loan, Personal Loan,...   \n",
       "4  Auto Loan, Credit-Builder Loan, Personal Loan,...   \n",
       "\n",
       "   atraso_na_data_de_vencimento  numero_de_atrasos_de_pagamento  \\\n",
       "0                             3                             7.0   \n",
       "1                            -1                             NaN   \n",
       "2                             3                             7.0   \n",
       "3                             5                             4.0   \n",
       "4                             6                             NaN   \n",
       "\n",
       "   limite_de_credito_alterado  numero_de_consultas_de_credito mix_de_credito  \\\n",
       "0                       11.27                             4.0              _   \n",
       "1                       11.27                             4.0           Good   \n",
       "2                         NaN                             4.0           Good   \n",
       "3                        6.27                             4.0           Good   \n",
       "4                       11.27                             4.0           Good   \n",
       "\n",
       "   divida_a_pagar  taxa_de_utilizacao_de_credito  \\\n",
       "0          809.98                      26.822620   \n",
       "1          809.98                      31.944960   \n",
       "2          809.98                      28.609352   \n",
       "3          809.98                      31.377862   \n",
       "4          809.98                      24.797347   \n",
       "\n",
       "  tempo_do_historico_de_credito pagamento_do_valor_minimo  \\\n",
       "0         22 Years and 1 Months                        No   \n",
       "1                           NaN                        No   \n",
       "2         22 Years and 3 Months                        No   \n",
       "3         22 Years and 4 Months                        No   \n",
       "4         22 Years and 5 Months                        No   \n",
       "\n",
       "   total_por_mes_parcelas_mensais_faceis_emi  valor_investido_mensalmente  \\\n",
       "0                                  49.574949                    80.415295   \n",
       "1                                  49.574949                   118.280222   \n",
       "2                                  49.574949                    81.699521   \n",
       "3                                  49.574949                   199.458074   \n",
       "4                                  49.574949                    41.420153   \n",
       "\n",
       "         comportamento_do_pagamento  saldo_mensal pontuacao_de_credito  \n",
       "0   High_spent_Small_value_payments    312.494089                 Good  \n",
       "1    Low_spent_Large_value_payments    284.629162                 Good  \n",
       "2   Low_spent_Medium_value_payments    331.209863                 Good  \n",
       "3    Low_spent_Small_value_payments    223.451310                 Good  \n",
       "4  High_spent_Medium_value_payments    341.489231                 Good  "
      ]
     },
     "execution_count": 24,
     "metadata": {},
     "output_type": "execute_result"
    }
   ],
   "source": [
    "train.head()"
   ]
  },
  {
   "cell_type": "code",
   "execution_count": null,
   "metadata": {},
   "outputs": [],
   "source": []
  }
 ],
 "metadata": {
  "kernelspec": {
   "display_name": "Python 3",
   "language": "python",
   "name": "python3"
  },
  "language_info": {
   "codemirror_mode": {
    "name": "ipython",
    "version": 3
   },
   "file_extension": ".py",
   "mimetype": "text/x-python",
   "name": "python",
   "nbconvert_exporter": "python",
   "pygments_lexer": "ipython3",
   "version": "3.12.0"
  }
 },
 "nbformat": 4,
 "nbformat_minor": 2
}
