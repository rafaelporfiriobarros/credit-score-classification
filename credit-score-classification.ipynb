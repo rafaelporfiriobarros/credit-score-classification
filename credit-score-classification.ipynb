{
 "cells": [
  {
   "cell_type": "markdown",
   "metadata": {},
   "source": [
    "<img src=\"images/dataset-cover.jpg\" width=796 height=400 />"
   ]
  },
  {
   "cell_type": "markdown",
   "metadata": {},
   "source": [
    "# Sobre o conjunto de dados"
   ]
  },
  {
   "cell_type": "markdown",
   "metadata": {},
   "source": [
    "## Declaração do problema"
   ]
  },
  {
   "cell_type": "markdown",
   "metadata": {},
   "source": [
    "Você está trabalhando como cientista de dados em uma empresa financeira global. Ao longo dos anos, a empresa coletou dados bancários básicos e muitas informações relacionadas ao crédito. A gestão quer construir um sistema inteligente para segregar as pessoas em faixas de pontuação de crédito para reduzir os esforços manuais."
   ]
  },
  {
   "cell_type": "markdown",
   "metadata": {},
   "source": [
    "## Tarefa"
   ]
  },
  {
   "cell_type": "markdown",
   "metadata": {},
   "source": [
    "Dadas as informações relacionadas ao crédito de uma pessoa, construir um modelo de aprendizado de máquina que possa classificar a pontuação de crédito."
   ]
  },
  {
   "cell_type": "markdown",
   "metadata": {},
   "source": [
    "### Importação das Bibliotecas"
   ]
  },
  {
   "cell_type": "code",
   "execution_count": 1,
   "metadata": {},
   "outputs": [],
   "source": [
    "# BIBLIOTECAS\n",
    "import pandas as pd\n",
    "import numpy as np\n",
    "import warnings\n",
    "import seaborn as sns\n",
    "import matplotlib.pyplot as plt\n",
    "import plotly.express as px\n",
    "import math\n",
    "\n",
    "import scipy.stats as stats\n",
    "from sklearn import preprocessing\n",
    "from sklearn.impute import SimpleImputer\n"
   ]
  },
  {
   "cell_type": "markdown",
   "metadata": {},
   "source": [
    "### Configurações"
   ]
  },
  {
   "cell_type": "code",
   "execution_count": 2,
   "metadata": {},
   "outputs": [],
   "source": [
    "# Mostra todas as colunas do dataset\n",
    "pd.set_option('display.max_columns', None)\n",
    "\n",
    "# Desabilita os avisos - warnings\n",
    "warnings.filterwarnings(\"ignore\")\n",
    "\n",
    "# Packages options \n",
    "sns.set(rc={'figure.figsize': [14, 7]}, font_scale=1.2) # Standard figure size for all "
   ]
  },
  {
   "cell_type": "markdown",
   "metadata": {},
   "source": [
    "### Carregamento dos datasets"
   ]
  },
  {
   "cell_type": "code",
   "execution_count": 3,
   "metadata": {},
   "outputs": [],
   "source": [
    "train = pd.read_csv('datasets/train.csv', low_memory=False)\n",
    "test = pd.read_csv('datasets/test.csv', low_memory=False)"
   ]
  },
  {
   "cell_type": "markdown",
   "metadata": {},
   "source": [
    "### Visualização dos Datasets"
   ]
  },
  {
   "cell_type": "code",
   "execution_count": 4,
   "metadata": {},
   "outputs": [
    {
     "data": {
      "text/html": [
       "<div>\n",
       "<style scoped>\n",
       "    .dataframe tbody tr th:only-of-type {\n",
       "        vertical-align: middle;\n",
       "    }\n",
       "\n",
       "    .dataframe tbody tr th {\n",
       "        vertical-align: top;\n",
       "    }\n",
       "\n",
       "    .dataframe thead th {\n",
       "        text-align: right;\n",
       "    }\n",
       "</style>\n",
       "<table border=\"1\" class=\"dataframe\">\n",
       "  <thead>\n",
       "    <tr style=\"text-align: right;\">\n",
       "      <th></th>\n",
       "      <th>0</th>\n",
       "      <th>1</th>\n",
       "      <th>2</th>\n",
       "      <th>3</th>\n",
       "      <th>4</th>\n",
       "    </tr>\n",
       "  </thead>\n",
       "  <tbody>\n",
       "    <tr>\n",
       "      <th>ID</th>\n",
       "      <td>0x1602</td>\n",
       "      <td>0x1603</td>\n",
       "      <td>0x1604</td>\n",
       "      <td>0x1605</td>\n",
       "      <td>0x1606</td>\n",
       "    </tr>\n",
       "    <tr>\n",
       "      <th>Customer_ID</th>\n",
       "      <td>CUS_0xd40</td>\n",
       "      <td>CUS_0xd40</td>\n",
       "      <td>CUS_0xd40</td>\n",
       "      <td>CUS_0xd40</td>\n",
       "      <td>CUS_0xd40</td>\n",
       "    </tr>\n",
       "    <tr>\n",
       "      <th>Month</th>\n",
       "      <td>January</td>\n",
       "      <td>February</td>\n",
       "      <td>March</td>\n",
       "      <td>April</td>\n",
       "      <td>May</td>\n",
       "    </tr>\n",
       "    <tr>\n",
       "      <th>Name</th>\n",
       "      <td>Aaron Maashoh</td>\n",
       "      <td>Aaron Maashoh</td>\n",
       "      <td>Aaron Maashoh</td>\n",
       "      <td>Aaron Maashoh</td>\n",
       "      <td>Aaron Maashoh</td>\n",
       "    </tr>\n",
       "    <tr>\n",
       "      <th>Age</th>\n",
       "      <td>23</td>\n",
       "      <td>23</td>\n",
       "      <td>-500</td>\n",
       "      <td>23</td>\n",
       "      <td>23</td>\n",
       "    </tr>\n",
       "    <tr>\n",
       "      <th>SSN</th>\n",
       "      <td>821-00-0265</td>\n",
       "      <td>821-00-0265</td>\n",
       "      <td>821-00-0265</td>\n",
       "      <td>821-00-0265</td>\n",
       "      <td>821-00-0265</td>\n",
       "    </tr>\n",
       "    <tr>\n",
       "      <th>Occupation</th>\n",
       "      <td>Scientist</td>\n",
       "      <td>Scientist</td>\n",
       "      <td>Scientist</td>\n",
       "      <td>Scientist</td>\n",
       "      <td>Scientist</td>\n",
       "    </tr>\n",
       "    <tr>\n",
       "      <th>Annual_Income</th>\n",
       "      <td>19114.12</td>\n",
       "      <td>19114.12</td>\n",
       "      <td>19114.12</td>\n",
       "      <td>19114.12</td>\n",
       "      <td>19114.12</td>\n",
       "    </tr>\n",
       "    <tr>\n",
       "      <th>Monthly_Inhand_Salary</th>\n",
       "      <td>1824.843333</td>\n",
       "      <td>NaN</td>\n",
       "      <td>NaN</td>\n",
       "      <td>NaN</td>\n",
       "      <td>1824.843333</td>\n",
       "    </tr>\n",
       "    <tr>\n",
       "      <th>Num_Bank_Accounts</th>\n",
       "      <td>3</td>\n",
       "      <td>3</td>\n",
       "      <td>3</td>\n",
       "      <td>3</td>\n",
       "      <td>3</td>\n",
       "    </tr>\n",
       "    <tr>\n",
       "      <th>Num_Credit_Card</th>\n",
       "      <td>4</td>\n",
       "      <td>4</td>\n",
       "      <td>4</td>\n",
       "      <td>4</td>\n",
       "      <td>4</td>\n",
       "    </tr>\n",
       "    <tr>\n",
       "      <th>Interest_Rate</th>\n",
       "      <td>3</td>\n",
       "      <td>3</td>\n",
       "      <td>3</td>\n",
       "      <td>3</td>\n",
       "      <td>3</td>\n",
       "    </tr>\n",
       "    <tr>\n",
       "      <th>Num_of_Loan</th>\n",
       "      <td>4</td>\n",
       "      <td>4</td>\n",
       "      <td>4</td>\n",
       "      <td>4</td>\n",
       "      <td>4</td>\n",
       "    </tr>\n",
       "    <tr>\n",
       "      <th>Type_of_Loan</th>\n",
       "      <td>Auto Loan, Credit-Builder Loan, Personal Loan,...</td>\n",
       "      <td>Auto Loan, Credit-Builder Loan, Personal Loan,...</td>\n",
       "      <td>Auto Loan, Credit-Builder Loan, Personal Loan,...</td>\n",
       "      <td>Auto Loan, Credit-Builder Loan, Personal Loan,...</td>\n",
       "      <td>Auto Loan, Credit-Builder Loan, Personal Loan,...</td>\n",
       "    </tr>\n",
       "    <tr>\n",
       "      <th>Delay_from_due_date</th>\n",
       "      <td>3</td>\n",
       "      <td>-1</td>\n",
       "      <td>3</td>\n",
       "      <td>5</td>\n",
       "      <td>6</td>\n",
       "    </tr>\n",
       "    <tr>\n",
       "      <th>Num_of_Delayed_Payment</th>\n",
       "      <td>7</td>\n",
       "      <td>NaN</td>\n",
       "      <td>7</td>\n",
       "      <td>4</td>\n",
       "      <td>NaN</td>\n",
       "    </tr>\n",
       "    <tr>\n",
       "      <th>Changed_Credit_Limit</th>\n",
       "      <td>11.27</td>\n",
       "      <td>11.27</td>\n",
       "      <td>_</td>\n",
       "      <td>6.27</td>\n",
       "      <td>11.27</td>\n",
       "    </tr>\n",
       "    <tr>\n",
       "      <th>Num_Credit_Inquiries</th>\n",
       "      <td>4.0</td>\n",
       "      <td>4.0</td>\n",
       "      <td>4.0</td>\n",
       "      <td>4.0</td>\n",
       "      <td>4.0</td>\n",
       "    </tr>\n",
       "    <tr>\n",
       "      <th>Credit_Mix</th>\n",
       "      <td>_</td>\n",
       "      <td>Good</td>\n",
       "      <td>Good</td>\n",
       "      <td>Good</td>\n",
       "      <td>Good</td>\n",
       "    </tr>\n",
       "    <tr>\n",
       "      <th>Outstanding_Debt</th>\n",
       "      <td>809.98</td>\n",
       "      <td>809.98</td>\n",
       "      <td>809.98</td>\n",
       "      <td>809.98</td>\n",
       "      <td>809.98</td>\n",
       "    </tr>\n",
       "    <tr>\n",
       "      <th>Credit_Utilization_Ratio</th>\n",
       "      <td>26.82262</td>\n",
       "      <td>31.94496</td>\n",
       "      <td>28.609352</td>\n",
       "      <td>31.377862</td>\n",
       "      <td>24.797347</td>\n",
       "    </tr>\n",
       "    <tr>\n",
       "      <th>Credit_History_Age</th>\n",
       "      <td>22 Years and 1 Months</td>\n",
       "      <td>NaN</td>\n",
       "      <td>22 Years and 3 Months</td>\n",
       "      <td>22 Years and 4 Months</td>\n",
       "      <td>22 Years and 5 Months</td>\n",
       "    </tr>\n",
       "    <tr>\n",
       "      <th>Payment_of_Min_Amount</th>\n",
       "      <td>No</td>\n",
       "      <td>No</td>\n",
       "      <td>No</td>\n",
       "      <td>No</td>\n",
       "      <td>No</td>\n",
       "    </tr>\n",
       "    <tr>\n",
       "      <th>Total_EMI_per_month</th>\n",
       "      <td>49.574949</td>\n",
       "      <td>49.574949</td>\n",
       "      <td>49.574949</td>\n",
       "      <td>49.574949</td>\n",
       "      <td>49.574949</td>\n",
       "    </tr>\n",
       "    <tr>\n",
       "      <th>Amount_invested_monthly</th>\n",
       "      <td>80.41529543900253</td>\n",
       "      <td>118.28022162236736</td>\n",
       "      <td>81.699521264648</td>\n",
       "      <td>199.4580743910713</td>\n",
       "      <td>41.420153086217326</td>\n",
       "    </tr>\n",
       "    <tr>\n",
       "      <th>Payment_Behaviour</th>\n",
       "      <td>High_spent_Small_value_payments</td>\n",
       "      <td>Low_spent_Large_value_payments</td>\n",
       "      <td>Low_spent_Medium_value_payments</td>\n",
       "      <td>Low_spent_Small_value_payments</td>\n",
       "      <td>High_spent_Medium_value_payments</td>\n",
       "    </tr>\n",
       "    <tr>\n",
       "      <th>Monthly_Balance</th>\n",
       "      <td>312.49408867943663</td>\n",
       "      <td>284.62916249607184</td>\n",
       "      <td>331.2098628537912</td>\n",
       "      <td>223.45130972736786</td>\n",
       "      <td>341.48923103222177</td>\n",
       "    </tr>\n",
       "    <tr>\n",
       "      <th>Credit_Score</th>\n",
       "      <td>Good</td>\n",
       "      <td>Good</td>\n",
       "      <td>Good</td>\n",
       "      <td>Good</td>\n",
       "      <td>Good</td>\n",
       "    </tr>\n",
       "  </tbody>\n",
       "</table>\n",
       "</div>"
      ],
      "text/plain": [
       "                                                                          0  \\\n",
       "ID                                                                   0x1602   \n",
       "Customer_ID                                                       CUS_0xd40   \n",
       "Month                                                               January   \n",
       "Name                                                          Aaron Maashoh   \n",
       "Age                                                                      23   \n",
       "SSN                                                             821-00-0265   \n",
       "Occupation                                                        Scientist   \n",
       "Annual_Income                                                      19114.12   \n",
       "Monthly_Inhand_Salary                                           1824.843333   \n",
       "Num_Bank_Accounts                                                         3   \n",
       "Num_Credit_Card                                                           4   \n",
       "Interest_Rate                                                             3   \n",
       "Num_of_Loan                                                               4   \n",
       "Type_of_Loan              Auto Loan, Credit-Builder Loan, Personal Loan,...   \n",
       "Delay_from_due_date                                                       3   \n",
       "Num_of_Delayed_Payment                                                    7   \n",
       "Changed_Credit_Limit                                                  11.27   \n",
       "Num_Credit_Inquiries                                                    4.0   \n",
       "Credit_Mix                                                                _   \n",
       "Outstanding_Debt                                                     809.98   \n",
       "Credit_Utilization_Ratio                                           26.82262   \n",
       "Credit_History_Age                                    22 Years and 1 Months   \n",
       "Payment_of_Min_Amount                                                    No   \n",
       "Total_EMI_per_month                                               49.574949   \n",
       "Amount_invested_monthly                                   80.41529543900253   \n",
       "Payment_Behaviour                           High_spent_Small_value_payments   \n",
       "Monthly_Balance                                          312.49408867943663   \n",
       "Credit_Score                                                           Good   \n",
       "\n",
       "                                                                          1  \\\n",
       "ID                                                                   0x1603   \n",
       "Customer_ID                                                       CUS_0xd40   \n",
       "Month                                                              February   \n",
       "Name                                                          Aaron Maashoh   \n",
       "Age                                                                      23   \n",
       "SSN                                                             821-00-0265   \n",
       "Occupation                                                        Scientist   \n",
       "Annual_Income                                                      19114.12   \n",
       "Monthly_Inhand_Salary                                                   NaN   \n",
       "Num_Bank_Accounts                                                         3   \n",
       "Num_Credit_Card                                                           4   \n",
       "Interest_Rate                                                             3   \n",
       "Num_of_Loan                                                               4   \n",
       "Type_of_Loan              Auto Loan, Credit-Builder Loan, Personal Loan,...   \n",
       "Delay_from_due_date                                                      -1   \n",
       "Num_of_Delayed_Payment                                                  NaN   \n",
       "Changed_Credit_Limit                                                  11.27   \n",
       "Num_Credit_Inquiries                                                    4.0   \n",
       "Credit_Mix                                                             Good   \n",
       "Outstanding_Debt                                                     809.98   \n",
       "Credit_Utilization_Ratio                                           31.94496   \n",
       "Credit_History_Age                                                      NaN   \n",
       "Payment_of_Min_Amount                                                    No   \n",
       "Total_EMI_per_month                                               49.574949   \n",
       "Amount_invested_monthly                                  118.28022162236736   \n",
       "Payment_Behaviour                            Low_spent_Large_value_payments   \n",
       "Monthly_Balance                                          284.62916249607184   \n",
       "Credit_Score                                                           Good   \n",
       "\n",
       "                                                                          2  \\\n",
       "ID                                                                   0x1604   \n",
       "Customer_ID                                                       CUS_0xd40   \n",
       "Month                                                                 March   \n",
       "Name                                                          Aaron Maashoh   \n",
       "Age                                                                    -500   \n",
       "SSN                                                             821-00-0265   \n",
       "Occupation                                                        Scientist   \n",
       "Annual_Income                                                      19114.12   \n",
       "Monthly_Inhand_Salary                                                   NaN   \n",
       "Num_Bank_Accounts                                                         3   \n",
       "Num_Credit_Card                                                           4   \n",
       "Interest_Rate                                                             3   \n",
       "Num_of_Loan                                                               4   \n",
       "Type_of_Loan              Auto Loan, Credit-Builder Loan, Personal Loan,...   \n",
       "Delay_from_due_date                                                       3   \n",
       "Num_of_Delayed_Payment                                                    7   \n",
       "Changed_Credit_Limit                                                      _   \n",
       "Num_Credit_Inquiries                                                    4.0   \n",
       "Credit_Mix                                                             Good   \n",
       "Outstanding_Debt                                                     809.98   \n",
       "Credit_Utilization_Ratio                                          28.609352   \n",
       "Credit_History_Age                                    22 Years and 3 Months   \n",
       "Payment_of_Min_Amount                                                    No   \n",
       "Total_EMI_per_month                                               49.574949   \n",
       "Amount_invested_monthly                                     81.699521264648   \n",
       "Payment_Behaviour                           Low_spent_Medium_value_payments   \n",
       "Monthly_Balance                                           331.2098628537912   \n",
       "Credit_Score                                                           Good   \n",
       "\n",
       "                                                                          3  \\\n",
       "ID                                                                   0x1605   \n",
       "Customer_ID                                                       CUS_0xd40   \n",
       "Month                                                                 April   \n",
       "Name                                                          Aaron Maashoh   \n",
       "Age                                                                      23   \n",
       "SSN                                                             821-00-0265   \n",
       "Occupation                                                        Scientist   \n",
       "Annual_Income                                                      19114.12   \n",
       "Monthly_Inhand_Salary                                                   NaN   \n",
       "Num_Bank_Accounts                                                         3   \n",
       "Num_Credit_Card                                                           4   \n",
       "Interest_Rate                                                             3   \n",
       "Num_of_Loan                                                               4   \n",
       "Type_of_Loan              Auto Loan, Credit-Builder Loan, Personal Loan,...   \n",
       "Delay_from_due_date                                                       5   \n",
       "Num_of_Delayed_Payment                                                    4   \n",
       "Changed_Credit_Limit                                                   6.27   \n",
       "Num_Credit_Inquiries                                                    4.0   \n",
       "Credit_Mix                                                             Good   \n",
       "Outstanding_Debt                                                     809.98   \n",
       "Credit_Utilization_Ratio                                          31.377862   \n",
       "Credit_History_Age                                    22 Years and 4 Months   \n",
       "Payment_of_Min_Amount                                                    No   \n",
       "Total_EMI_per_month                                               49.574949   \n",
       "Amount_invested_monthly                                   199.4580743910713   \n",
       "Payment_Behaviour                            Low_spent_Small_value_payments   \n",
       "Monthly_Balance                                          223.45130972736786   \n",
       "Credit_Score                                                           Good   \n",
       "\n",
       "                                                                          4  \n",
       "ID                                                                   0x1606  \n",
       "Customer_ID                                                       CUS_0xd40  \n",
       "Month                                                                   May  \n",
       "Name                                                          Aaron Maashoh  \n",
       "Age                                                                      23  \n",
       "SSN                                                             821-00-0265  \n",
       "Occupation                                                        Scientist  \n",
       "Annual_Income                                                      19114.12  \n",
       "Monthly_Inhand_Salary                                           1824.843333  \n",
       "Num_Bank_Accounts                                                         3  \n",
       "Num_Credit_Card                                                           4  \n",
       "Interest_Rate                                                             3  \n",
       "Num_of_Loan                                                               4  \n",
       "Type_of_Loan              Auto Loan, Credit-Builder Loan, Personal Loan,...  \n",
       "Delay_from_due_date                                                       6  \n",
       "Num_of_Delayed_Payment                                                  NaN  \n",
       "Changed_Credit_Limit                                                  11.27  \n",
       "Num_Credit_Inquiries                                                    4.0  \n",
       "Credit_Mix                                                             Good  \n",
       "Outstanding_Debt                                                     809.98  \n",
       "Credit_Utilization_Ratio                                          24.797347  \n",
       "Credit_History_Age                                    22 Years and 5 Months  \n",
       "Payment_of_Min_Amount                                                    No  \n",
       "Total_EMI_per_month                                               49.574949  \n",
       "Amount_invested_monthly                                  41.420153086217326  \n",
       "Payment_Behaviour                          High_spent_Medium_value_payments  \n",
       "Monthly_Balance                                          341.48923103222177  \n",
       "Credit_Score                                                           Good  "
      ]
     },
     "execution_count": 4,
     "metadata": {},
     "output_type": "execute_result"
    }
   ],
   "source": [
    "train.head().T"
   ]
  },
  {
   "cell_type": "code",
   "execution_count": 5,
   "metadata": {},
   "outputs": [
    {
     "data": {
      "text/html": [
       "<div>\n",
       "<style scoped>\n",
       "    .dataframe tbody tr th:only-of-type {\n",
       "        vertical-align: middle;\n",
       "    }\n",
       "\n",
       "    .dataframe tbody tr th {\n",
       "        vertical-align: top;\n",
       "    }\n",
       "\n",
       "    .dataframe thead th {\n",
       "        text-align: right;\n",
       "    }\n",
       "</style>\n",
       "<table border=\"1\" class=\"dataframe\">\n",
       "  <thead>\n",
       "    <tr style=\"text-align: right;\">\n",
       "      <th></th>\n",
       "      <th>0</th>\n",
       "      <th>1</th>\n",
       "      <th>2</th>\n",
       "      <th>3</th>\n",
       "      <th>4</th>\n",
       "    </tr>\n",
       "  </thead>\n",
       "  <tbody>\n",
       "    <tr>\n",
       "      <th>ID</th>\n",
       "      <td>0x160a</td>\n",
       "      <td>0x160b</td>\n",
       "      <td>0x160c</td>\n",
       "      <td>0x160d</td>\n",
       "      <td>0x1616</td>\n",
       "    </tr>\n",
       "    <tr>\n",
       "      <th>Customer_ID</th>\n",
       "      <td>CUS_0xd40</td>\n",
       "      <td>CUS_0xd40</td>\n",
       "      <td>CUS_0xd40</td>\n",
       "      <td>CUS_0xd40</td>\n",
       "      <td>CUS_0x21b1</td>\n",
       "    </tr>\n",
       "    <tr>\n",
       "      <th>Month</th>\n",
       "      <td>September</td>\n",
       "      <td>October</td>\n",
       "      <td>November</td>\n",
       "      <td>December</td>\n",
       "      <td>September</td>\n",
       "    </tr>\n",
       "    <tr>\n",
       "      <th>Name</th>\n",
       "      <td>Aaron Maashoh</td>\n",
       "      <td>Aaron Maashoh</td>\n",
       "      <td>Aaron Maashoh</td>\n",
       "      <td>Aaron Maashoh</td>\n",
       "      <td>Rick Rothackerj</td>\n",
       "    </tr>\n",
       "    <tr>\n",
       "      <th>Age</th>\n",
       "      <td>23</td>\n",
       "      <td>24</td>\n",
       "      <td>24</td>\n",
       "      <td>24_</td>\n",
       "      <td>28</td>\n",
       "    </tr>\n",
       "    <tr>\n",
       "      <th>SSN</th>\n",
       "      <td>821-00-0265</td>\n",
       "      <td>821-00-0265</td>\n",
       "      <td>821-00-0265</td>\n",
       "      <td>821-00-0265</td>\n",
       "      <td>004-07-5839</td>\n",
       "    </tr>\n",
       "    <tr>\n",
       "      <th>Occupation</th>\n",
       "      <td>Scientist</td>\n",
       "      <td>Scientist</td>\n",
       "      <td>Scientist</td>\n",
       "      <td>Scientist</td>\n",
       "      <td>_______</td>\n",
       "    </tr>\n",
       "    <tr>\n",
       "      <th>Annual_Income</th>\n",
       "      <td>19114.12</td>\n",
       "      <td>19114.12</td>\n",
       "      <td>19114.12</td>\n",
       "      <td>19114.12</td>\n",
       "      <td>34847.84</td>\n",
       "    </tr>\n",
       "    <tr>\n",
       "      <th>Monthly_Inhand_Salary</th>\n",
       "      <td>1824.843333</td>\n",
       "      <td>1824.843333</td>\n",
       "      <td>1824.843333</td>\n",
       "      <td>NaN</td>\n",
       "      <td>3037.986667</td>\n",
       "    </tr>\n",
       "    <tr>\n",
       "      <th>Num_Bank_Accounts</th>\n",
       "      <td>3</td>\n",
       "      <td>3</td>\n",
       "      <td>3</td>\n",
       "      <td>3</td>\n",
       "      <td>2</td>\n",
       "    </tr>\n",
       "    <tr>\n",
       "      <th>Num_Credit_Card</th>\n",
       "      <td>4</td>\n",
       "      <td>4</td>\n",
       "      <td>4</td>\n",
       "      <td>4</td>\n",
       "      <td>4</td>\n",
       "    </tr>\n",
       "    <tr>\n",
       "      <th>Interest_Rate</th>\n",
       "      <td>3</td>\n",
       "      <td>3</td>\n",
       "      <td>3</td>\n",
       "      <td>3</td>\n",
       "      <td>6</td>\n",
       "    </tr>\n",
       "    <tr>\n",
       "      <th>Num_of_Loan</th>\n",
       "      <td>4</td>\n",
       "      <td>4</td>\n",
       "      <td>4</td>\n",
       "      <td>4</td>\n",
       "      <td>1</td>\n",
       "    </tr>\n",
       "    <tr>\n",
       "      <th>Type_of_Loan</th>\n",
       "      <td>Auto Loan, Credit-Builder Loan, Personal Loan,...</td>\n",
       "      <td>Auto Loan, Credit-Builder Loan, Personal Loan,...</td>\n",
       "      <td>Auto Loan, Credit-Builder Loan, Personal Loan,...</td>\n",
       "      <td>Auto Loan, Credit-Builder Loan, Personal Loan,...</td>\n",
       "      <td>Credit-Builder Loan</td>\n",
       "    </tr>\n",
       "    <tr>\n",
       "      <th>Delay_from_due_date</th>\n",
       "      <td>3</td>\n",
       "      <td>3</td>\n",
       "      <td>-1</td>\n",
       "      <td>4</td>\n",
       "      <td>3</td>\n",
       "    </tr>\n",
       "    <tr>\n",
       "      <th>Num_of_Delayed_Payment</th>\n",
       "      <td>7</td>\n",
       "      <td>9</td>\n",
       "      <td>4</td>\n",
       "      <td>5</td>\n",
       "      <td>1</td>\n",
       "    </tr>\n",
       "    <tr>\n",
       "      <th>Changed_Credit_Limit</th>\n",
       "      <td>11.27</td>\n",
       "      <td>13.27</td>\n",
       "      <td>12.27</td>\n",
       "      <td>11.27</td>\n",
       "      <td>5.42</td>\n",
       "    </tr>\n",
       "    <tr>\n",
       "      <th>Num_Credit_Inquiries</th>\n",
       "      <td>2022.0</td>\n",
       "      <td>4.0</td>\n",
       "      <td>4.0</td>\n",
       "      <td>4.0</td>\n",
       "      <td>5.0</td>\n",
       "    </tr>\n",
       "    <tr>\n",
       "      <th>Credit_Mix</th>\n",
       "      <td>Good</td>\n",
       "      <td>Good</td>\n",
       "      <td>Good</td>\n",
       "      <td>Good</td>\n",
       "      <td>Good</td>\n",
       "    </tr>\n",
       "    <tr>\n",
       "      <th>Outstanding_Debt</th>\n",
       "      <td>809.98</td>\n",
       "      <td>809.98</td>\n",
       "      <td>809.98</td>\n",
       "      <td>809.98</td>\n",
       "      <td>605.03</td>\n",
       "    </tr>\n",
       "    <tr>\n",
       "      <th>Credit_Utilization_Ratio</th>\n",
       "      <td>35.030402</td>\n",
       "      <td>33.053114</td>\n",
       "      <td>33.811894</td>\n",
       "      <td>32.430559</td>\n",
       "      <td>25.926822</td>\n",
       "    </tr>\n",
       "    <tr>\n",
       "      <th>Credit_History_Age</th>\n",
       "      <td>22 Years and 9 Months</td>\n",
       "      <td>22 Years and 10 Months</td>\n",
       "      <td>NaN</td>\n",
       "      <td>23 Years and 0 Months</td>\n",
       "      <td>27 Years and 3 Months</td>\n",
       "    </tr>\n",
       "    <tr>\n",
       "      <th>Payment_of_Min_Amount</th>\n",
       "      <td>No</td>\n",
       "      <td>No</td>\n",
       "      <td>No</td>\n",
       "      <td>No</td>\n",
       "      <td>No</td>\n",
       "    </tr>\n",
       "    <tr>\n",
       "      <th>Total_EMI_per_month</th>\n",
       "      <td>49.574949</td>\n",
       "      <td>49.574949</td>\n",
       "      <td>49.574949</td>\n",
       "      <td>49.574949</td>\n",
       "      <td>18.816215</td>\n",
       "    </tr>\n",
       "    <tr>\n",
       "      <th>Amount_invested_monthly</th>\n",
       "      <td>236.64268203272135</td>\n",
       "      <td>21.465380264657146</td>\n",
       "      <td>148.23393788500925</td>\n",
       "      <td>39.08251089460281</td>\n",
       "      <td>39.684018417945296</td>\n",
       "    </tr>\n",
       "    <tr>\n",
       "      <th>Payment_Behaviour</th>\n",
       "      <td>Low_spent_Small_value_payments</td>\n",
       "      <td>High_spent_Medium_value_payments</td>\n",
       "      <td>Low_spent_Medium_value_payments</td>\n",
       "      <td>High_spent_Medium_value_payments</td>\n",
       "      <td>High_spent_Large_value_payments</td>\n",
       "    </tr>\n",
       "    <tr>\n",
       "      <th>Monthly_Balance</th>\n",
       "      <td>186.26670208571772</td>\n",
       "      <td>361.44400385378196</td>\n",
       "      <td>264.67544623342997</td>\n",
       "      <td>343.82687322383634</td>\n",
       "      <td>485.2984336755923</td>\n",
       "    </tr>\n",
       "  </tbody>\n",
       "</table>\n",
       "</div>"
      ],
      "text/plain": [
       "                                                                          0  \\\n",
       "ID                                                                   0x160a   \n",
       "Customer_ID                                                       CUS_0xd40   \n",
       "Month                                                             September   \n",
       "Name                                                          Aaron Maashoh   \n",
       "Age                                                                      23   \n",
       "SSN                                                             821-00-0265   \n",
       "Occupation                                                        Scientist   \n",
       "Annual_Income                                                      19114.12   \n",
       "Monthly_Inhand_Salary                                           1824.843333   \n",
       "Num_Bank_Accounts                                                         3   \n",
       "Num_Credit_Card                                                           4   \n",
       "Interest_Rate                                                             3   \n",
       "Num_of_Loan                                                               4   \n",
       "Type_of_Loan              Auto Loan, Credit-Builder Loan, Personal Loan,...   \n",
       "Delay_from_due_date                                                       3   \n",
       "Num_of_Delayed_Payment                                                    7   \n",
       "Changed_Credit_Limit                                                  11.27   \n",
       "Num_Credit_Inquiries                                                 2022.0   \n",
       "Credit_Mix                                                             Good   \n",
       "Outstanding_Debt                                                     809.98   \n",
       "Credit_Utilization_Ratio                                          35.030402   \n",
       "Credit_History_Age                                    22 Years and 9 Months   \n",
       "Payment_of_Min_Amount                                                    No   \n",
       "Total_EMI_per_month                                               49.574949   \n",
       "Amount_invested_monthly                                  236.64268203272135   \n",
       "Payment_Behaviour                            Low_spent_Small_value_payments   \n",
       "Monthly_Balance                                          186.26670208571772   \n",
       "\n",
       "                                                                          1  \\\n",
       "ID                                                                   0x160b   \n",
       "Customer_ID                                                       CUS_0xd40   \n",
       "Month                                                               October   \n",
       "Name                                                          Aaron Maashoh   \n",
       "Age                                                                      24   \n",
       "SSN                                                             821-00-0265   \n",
       "Occupation                                                        Scientist   \n",
       "Annual_Income                                                      19114.12   \n",
       "Monthly_Inhand_Salary                                           1824.843333   \n",
       "Num_Bank_Accounts                                                         3   \n",
       "Num_Credit_Card                                                           4   \n",
       "Interest_Rate                                                             3   \n",
       "Num_of_Loan                                                               4   \n",
       "Type_of_Loan              Auto Loan, Credit-Builder Loan, Personal Loan,...   \n",
       "Delay_from_due_date                                                       3   \n",
       "Num_of_Delayed_Payment                                                    9   \n",
       "Changed_Credit_Limit                                                  13.27   \n",
       "Num_Credit_Inquiries                                                    4.0   \n",
       "Credit_Mix                                                             Good   \n",
       "Outstanding_Debt                                                     809.98   \n",
       "Credit_Utilization_Ratio                                          33.053114   \n",
       "Credit_History_Age                                   22 Years and 10 Months   \n",
       "Payment_of_Min_Amount                                                    No   \n",
       "Total_EMI_per_month                                               49.574949   \n",
       "Amount_invested_monthly                                  21.465380264657146   \n",
       "Payment_Behaviour                          High_spent_Medium_value_payments   \n",
       "Monthly_Balance                                          361.44400385378196   \n",
       "\n",
       "                                                                          2  \\\n",
       "ID                                                                   0x160c   \n",
       "Customer_ID                                                       CUS_0xd40   \n",
       "Month                                                              November   \n",
       "Name                                                          Aaron Maashoh   \n",
       "Age                                                                      24   \n",
       "SSN                                                             821-00-0265   \n",
       "Occupation                                                        Scientist   \n",
       "Annual_Income                                                      19114.12   \n",
       "Monthly_Inhand_Salary                                           1824.843333   \n",
       "Num_Bank_Accounts                                                         3   \n",
       "Num_Credit_Card                                                           4   \n",
       "Interest_Rate                                                             3   \n",
       "Num_of_Loan                                                               4   \n",
       "Type_of_Loan              Auto Loan, Credit-Builder Loan, Personal Loan,...   \n",
       "Delay_from_due_date                                                      -1   \n",
       "Num_of_Delayed_Payment                                                    4   \n",
       "Changed_Credit_Limit                                                  12.27   \n",
       "Num_Credit_Inquiries                                                    4.0   \n",
       "Credit_Mix                                                             Good   \n",
       "Outstanding_Debt                                                     809.98   \n",
       "Credit_Utilization_Ratio                                          33.811894   \n",
       "Credit_History_Age                                                      NaN   \n",
       "Payment_of_Min_Amount                                                    No   \n",
       "Total_EMI_per_month                                               49.574949   \n",
       "Amount_invested_monthly                                  148.23393788500925   \n",
       "Payment_Behaviour                           Low_spent_Medium_value_payments   \n",
       "Monthly_Balance                                          264.67544623342997   \n",
       "\n",
       "                                                                          3  \\\n",
       "ID                                                                   0x160d   \n",
       "Customer_ID                                                       CUS_0xd40   \n",
       "Month                                                              December   \n",
       "Name                                                          Aaron Maashoh   \n",
       "Age                                                                     24_   \n",
       "SSN                                                             821-00-0265   \n",
       "Occupation                                                        Scientist   \n",
       "Annual_Income                                                      19114.12   \n",
       "Monthly_Inhand_Salary                                                   NaN   \n",
       "Num_Bank_Accounts                                                         3   \n",
       "Num_Credit_Card                                                           4   \n",
       "Interest_Rate                                                             3   \n",
       "Num_of_Loan                                                               4   \n",
       "Type_of_Loan              Auto Loan, Credit-Builder Loan, Personal Loan,...   \n",
       "Delay_from_due_date                                                       4   \n",
       "Num_of_Delayed_Payment                                                    5   \n",
       "Changed_Credit_Limit                                                  11.27   \n",
       "Num_Credit_Inquiries                                                    4.0   \n",
       "Credit_Mix                                                             Good   \n",
       "Outstanding_Debt                                                     809.98   \n",
       "Credit_Utilization_Ratio                                          32.430559   \n",
       "Credit_History_Age                                    23 Years and 0 Months   \n",
       "Payment_of_Min_Amount                                                    No   \n",
       "Total_EMI_per_month                                               49.574949   \n",
       "Amount_invested_monthly                                   39.08251089460281   \n",
       "Payment_Behaviour                          High_spent_Medium_value_payments   \n",
       "Monthly_Balance                                          343.82687322383634   \n",
       "\n",
       "                                                        4  \n",
       "ID                                                 0x1616  \n",
       "Customer_ID                                    CUS_0x21b1  \n",
       "Month                                           September  \n",
       "Name                                      Rick Rothackerj  \n",
       "Age                                                    28  \n",
       "SSN                                           004-07-5839  \n",
       "Occupation                                        _______  \n",
       "Annual_Income                                    34847.84  \n",
       "Monthly_Inhand_Salary                         3037.986667  \n",
       "Num_Bank_Accounts                                       2  \n",
       "Num_Credit_Card                                         4  \n",
       "Interest_Rate                                           6  \n",
       "Num_of_Loan                                             1  \n",
       "Type_of_Loan                          Credit-Builder Loan  \n",
       "Delay_from_due_date                                     3  \n",
       "Num_of_Delayed_Payment                                  1  \n",
       "Changed_Credit_Limit                                 5.42  \n",
       "Num_Credit_Inquiries                                  5.0  \n",
       "Credit_Mix                                           Good  \n",
       "Outstanding_Debt                                   605.03  \n",
       "Credit_Utilization_Ratio                        25.926822  \n",
       "Credit_History_Age                  27 Years and 3 Months  \n",
       "Payment_of_Min_Amount                                  No  \n",
       "Total_EMI_per_month                             18.816215  \n",
       "Amount_invested_monthly                39.684018417945296  \n",
       "Payment_Behaviour         High_spent_Large_value_payments  \n",
       "Monthly_Balance                         485.2984336755923  "
      ]
     },
     "execution_count": 5,
     "metadata": {},
     "output_type": "execute_result"
    }
   ],
   "source": [
    "test.head().T"
   ]
  },
  {
   "cell_type": "markdown",
   "metadata": {},
   "source": [
    "- Os datasets train e test são idênticos, ou seja, eles já estão separados corretamente para o uso da criação dos modelos de Machine Learning.\n"
   ]
  },
  {
   "cell_type": "markdown",
   "metadata": {},
   "source": [
    "### Informações do Datasets"
   ]
  },
  {
   "cell_type": "code",
   "execution_count": 6,
   "metadata": {},
   "outputs": [
    {
     "name": "stdout",
     "output_type": "stream",
     "text": [
      "Quantidade de dados em train:  100000\n",
      "Quantidade de variáveis em train:  28\n",
      "------------------------------------\n",
      "Quantidade de dados em test:  50000\n",
      "Quantidade de variáveis em test:  27\n"
     ]
    }
   ],
   "source": [
    "# Dimensão das linhas e variáveis dos Datasets\n",
    "print('Quantidade de dados em train: ', train.shape[0])\n",
    "print('Quantidade de variáveis em train: ', train.shape[1])\n",
    "print('------------------------------------')\n",
    "print('Quantidade de dados em test: ', test.shape[0])\n",
    "print('Quantidade de variáveis em test: ', test.shape[1])"
   ]
  },
  {
   "cell_type": "code",
   "execution_count": 7,
   "metadata": {},
   "outputs": [
    {
     "name": "stdout",
     "output_type": "stream",
     "text": [
      "<class 'pandas.core.frame.DataFrame'>\n",
      "RangeIndex: 100000 entries, 0 to 99999\n",
      "Data columns (total 28 columns):\n",
      " #   Column                    Non-Null Count   Dtype  \n",
      "---  ------                    --------------   -----  \n",
      " 0   ID                        100000 non-null  object \n",
      " 1   Customer_ID               100000 non-null  object \n",
      " 2   Month                     100000 non-null  object \n",
      " 3   Name                      90015 non-null   object \n",
      " 4   Age                       100000 non-null  object \n",
      " 5   SSN                       100000 non-null  object \n",
      " 6   Occupation                100000 non-null  object \n",
      " 7   Annual_Income             100000 non-null  object \n",
      " 8   Monthly_Inhand_Salary     84998 non-null   float64\n",
      " 9   Num_Bank_Accounts         100000 non-null  int64  \n",
      " 10  Num_Credit_Card           100000 non-null  int64  \n",
      " 11  Interest_Rate             100000 non-null  int64  \n",
      " 12  Num_of_Loan               100000 non-null  object \n",
      " 13  Type_of_Loan              88592 non-null   object \n",
      " 14  Delay_from_due_date       100000 non-null  int64  \n",
      " 15  Num_of_Delayed_Payment    92998 non-null   object \n",
      " 16  Changed_Credit_Limit      100000 non-null  object \n",
      " 17  Num_Credit_Inquiries      98035 non-null   float64\n",
      " 18  Credit_Mix                100000 non-null  object \n",
      " 19  Outstanding_Debt          100000 non-null  object \n",
      " 20  Credit_Utilization_Ratio  100000 non-null  float64\n",
      " 21  Credit_History_Age        90970 non-null   object \n",
      " 22  Payment_of_Min_Amount     100000 non-null  object \n",
      " 23  Total_EMI_per_month       100000 non-null  float64\n",
      " 24  Amount_invested_monthly   95521 non-null   object \n",
      " 25  Payment_Behaviour         100000 non-null  object \n",
      " 26  Monthly_Balance           98800 non-null   object \n",
      " 27  Credit_Score              100000 non-null  object \n",
      "dtypes: float64(4), int64(4), object(20)\n",
      "memory usage: 21.4+ MB\n"
     ]
    }
   ],
   "source": [
    "# Infos train\n",
    "train.info()"
   ]
  },
  {
   "cell_type": "code",
   "execution_count": 8,
   "metadata": {},
   "outputs": [
    {
     "name": "stdout",
     "output_type": "stream",
     "text": [
      "<class 'pandas.core.frame.DataFrame'>\n",
      "RangeIndex: 50000 entries, 0 to 49999\n",
      "Data columns (total 27 columns):\n",
      " #   Column                    Non-Null Count  Dtype  \n",
      "---  ------                    --------------  -----  \n",
      " 0   ID                        50000 non-null  object \n",
      " 1   Customer_ID               50000 non-null  object \n",
      " 2   Month                     50000 non-null  object \n",
      " 3   Name                      44985 non-null  object \n",
      " 4   Age                       50000 non-null  object \n",
      " 5   SSN                       50000 non-null  object \n",
      " 6   Occupation                50000 non-null  object \n",
      " 7   Annual_Income             50000 non-null  object \n",
      " 8   Monthly_Inhand_Salary     42502 non-null  float64\n",
      " 9   Num_Bank_Accounts         50000 non-null  int64  \n",
      " 10  Num_Credit_Card           50000 non-null  int64  \n",
      " 11  Interest_Rate             50000 non-null  int64  \n",
      " 12  Num_of_Loan               50000 non-null  object \n",
      " 13  Type_of_Loan              44296 non-null  object \n",
      " 14  Delay_from_due_date       50000 non-null  int64  \n",
      " 15  Num_of_Delayed_Payment    46502 non-null  object \n",
      " 16  Changed_Credit_Limit      50000 non-null  object \n",
      " 17  Num_Credit_Inquiries      48965 non-null  float64\n",
      " 18  Credit_Mix                50000 non-null  object \n",
      " 19  Outstanding_Debt          50000 non-null  object \n",
      " 20  Credit_Utilization_Ratio  50000 non-null  float64\n",
      " 21  Credit_History_Age        45530 non-null  object \n",
      " 22  Payment_of_Min_Amount     50000 non-null  object \n",
      " 23  Total_EMI_per_month       50000 non-null  float64\n",
      " 24  Amount_invested_monthly   47729 non-null  object \n",
      " 25  Payment_Behaviour         50000 non-null  object \n",
      " 26  Monthly_Balance           49438 non-null  object \n",
      "dtypes: float64(4), int64(4), object(19)\n",
      "memory usage: 10.3+ MB\n"
     ]
    }
   ],
   "source": [
    "# Infos test                                                \n",
    "test.info()"
   ]
  },
  {
   "cell_type": "markdown",
   "metadata": {},
   "source": [
    "### Concatenar os Datasets"
   ]
  },
  {
   "cell_type": "markdown",
   "metadata": {},
   "source": [
    "- Concatenar os Datasets será uma boa opção para começar o EDA."
   ]
  },
  {
   "cell_type": "code",
   "execution_count": 9,
   "metadata": {},
   "outputs": [],
   "source": [
    "df = pd.concat([train, test], ignore_index=True)"
   ]
  },
  {
   "cell_type": "markdown",
   "metadata": {},
   "source": [
    "### Renomear as colunas"
   ]
  },
  {
   "cell_type": "code",
   "execution_count": 11,
   "metadata": {},
   "outputs": [],
   "source": [
    "lst_columns = {'Customer_ID':'id_cliente',\n",
    "               'Month':'mes',\n",
    "               'Name':'nome',\n",
    "               'Age':'idade',\n",
    "               'SSN':'cpf',\n",
    "               'Occupation':'profissao',\n",
    "               'Annual_Income':'renda_anual',\n",
    "               'Monthly_Inhand_Salary':'salario_mensal',\n",
    "               'Num_Bank_Accounts':'numero_de_contas_bancarias',\n",
    "               'Num_Credit_Card':'numero_de_cartoes_de_credito',\n",
    "               'Interest_Rate':'taxa_de_juro',\n",
    "               'Num_of_Loan':'numero_de_emprestimos',\n",
    "               'Type_of_Loan':'tipo_de_emprestimo',\n",
    "               'Delay_from_due_date':'atraso_na_data_de_vencimento',\n",
    "               'Num_of_Delayed_Payment':'numero_de_atrasos_de_pagamento',\n",
    "               'Changed_Credit_Limit':'limite_de_credito_alterado',\n",
    "               'Num_Credit_Inquiries':'numero_de_consultas_de_credito',\n",
    "               'Credit_Mix':'mix_de_credito',\n",
    "               'Outstanding_Debt':'divida_a_pagar',\n",
    "               'Credit_Utilization_Ratio':'taxa_de_utilizacao_de_credito',\n",
    "               'Credit_History_Age':'tempo_do_historico_de_credito',\n",
    "               'Payment_of_Min_Amount':'pagamento_do_valor_minimo',\n",
    "               'Total_EMI_per_month':'total_por_mes_parcelas_mensais_faceis_emi',\n",
    "               'Amount_invested_monthly':'valor_investido_mensalmente',\n",
    "               'Payment_Behaviour':'comportamento_do_pagamento',\n",
    "               'Monthly_Balance':'saldo_mensal',\n",
    "               'Credit_Score':'pontuacao_de_credito'\n",
    "               }"
   ]
  },
  {
   "cell_type": "code",
   "execution_count": 12,
   "metadata": {},
   "outputs": [],
   "source": [
    "df.rename(\n",
    "    columns = lst_columns, inplace = True\n",
    ")"
   ]
  },
  {
   "cell_type": "code",
   "execution_count": 13,
   "metadata": {},
   "outputs": [],
   "source": [
    "df.rename(\n",
    "    columns = lst_columns, inplace = True\n",
    ")"
   ]
  },
  {
   "cell_type": "markdown",
   "metadata": {},
   "source": [
    "### Filtragem de colunas"
   ]
  },
  {
   "cell_type": "markdown",
   "metadata": {},
   "source": [
    "- Para obter um dataset mais clean, seria bom filtrar apenas com as features mais importantes para a análise."
   ]
  },
  {
   "cell_type": "code",
   "execution_count": 14,
   "metadata": {},
   "outputs": [],
   "source": [
    "lst_columns_to_remove = ['ID','id_cliente', 'cpf']\n",
    "df = df.drop(columns=lst_columns_to_remove)"
   ]
  },
  {
   "cell_type": "markdown",
   "metadata": {},
   "source": [
    "### Alterar os tipos das colunas nos Datasets"
   ]
  },
  {
   "cell_type": "code",
   "execution_count": 15,
   "metadata": {},
   "outputs": [],
   "source": [
    "# Lista das colunas para conversão\n",
    "lst_columns_to_change = ['idade', 'renda_anual', \n",
    "                         'numero_de_emprestimos', 'numero_de_atrasos_de_pagamento',\n",
    "                         'limite_de_credito_alterado', 'divida_a_pagar', 'valor_investido_mensalmente',\n",
    "                         'saldo_mensal']\n",
    "\n",
    "# loop para percorrer a partir da lista lst_columns_to_change os datasets e mudar o tipo das colunas train e test\n",
    "for i in lst_columns_to_change:\n",
    "    df[i] = pd.to_numeric(df[i], errors = 'coerce')\n",
    "    \n",
    "# aqui foi mudado individualmente a coluna idade para o formato int64\n",
    "df['idade'] = df['idade'].astype('Int64')\n"
   ]
  },
  {
   "cell_type": "markdown",
   "metadata": {},
   "source": [
    "###  Missing Values"
   ]
  },
  {
   "cell_type": "code",
   "execution_count": 16,
   "metadata": {},
   "outputs": [
    {
     "data": {
      "text/plain": [
       "mes                                              0\n",
       "nome                                         15000\n",
       "idade                                         7416\n",
       "profissao                                        0\n",
       "renda_anual                                  10500\n",
       "salario_mensal                               22500\n",
       "numero_de_contas_bancarias                       0\n",
       "numero_de_cartoes_de_credito                     0\n",
       "taxa_de_juro                                     0\n",
       "numero_de_emprestimos                         7221\n",
       "tipo_de_emprestimo                           17112\n",
       "atraso_na_data_de_vencimento                     0\n",
       "numero_de_atrasos_de_pagamento               14671\n",
       "limite_de_credito_alterado                    3150\n",
       "numero_de_consultas_de_credito                3000\n",
       "mix_de_credito                                   0\n",
       "divida_a_pagar                                1500\n",
       "taxa_de_utilizacao_de_credito                    0\n",
       "tempo_do_historico_de_credito                13500\n",
       "pagamento_do_valor_minimo                        0\n",
       "total_por_mes_parcelas_mensais_faceis_emi        0\n",
       "valor_investido_mensalmente                  13230\n",
       "comportamento_do_pagamento                       0\n",
       "saldo_mensal                                  1777\n",
       "pontuacao_de_credito                         50000\n",
       "dtype: int64"
      ]
     },
     "execution_count": 16,
     "metadata": {},
     "output_type": "execute_result"
    }
   ],
   "source": [
    "df.isna().sum()"
   ]
  },
  {
   "cell_type": "markdown",
   "metadata": {},
   "source": [
    "- Temos valores ausentes (Missing Values) no Dataset:\n",
    "    - nome, idade, renda_anual, salario_mensal, numero_de_emprestimos, tipo_de_emprestimo, \n",
    "    - numero_de_atrasos_de_pagamento, limite_de_credito_alterado, numero_de_consultas_de_credito,\n",
    "    - divida_a_pagar, tempo_do_historico_de_credito, valor_investido_mensalmente, saldo_mensal             \n",
    "- Possiveis variáveis com dtypes diferentes no Dataset."
   ]
  },
  {
   "cell_type": "markdown",
   "metadata": {},
   "source": [
    "### Variáveis Numéricas e Categóricas"
   ]
  },
  {
   "cell_type": "code",
   "execution_count": 17,
   "metadata": {},
   "outputs": [],
   "source": [
    "num_df = df.select_dtypes(exclude = ['object'])\n",
    "cat_df = df.select_dtypes(exclude = ['object'])"
   ]
  },
  {
   "cell_type": "markdown",
   "metadata": {},
   "source": [
    "## Análise Exploratória dos Dados"
   ]
  },
  {
   "cell_type": "markdown",
   "metadata": {},
   "source": [
    "### Análise Univariada"
   ]
  },
  {
   "cell_type": "markdown",
   "metadata": {},
   "source": [
    "#### 1. Qual é a distribuição dos meses dos clientes?"
   ]
  },
  {
   "cell_type": "code",
   "execution_count": 22,
   "metadata": {},
   "outputs": [
    {
     "data": {
      "text/plain": [
       "January      12500\n",
       "February     12500\n",
       "March        12500\n",
       "April        12500\n",
       "May          12500\n",
       "June         12500\n",
       "July         12500\n",
       "August       12500\n",
       "September    12500\n",
       "October      12500\n",
       "November     12500\n",
       "December     12500\n",
       "Name: mes, dtype: int64"
      ]
     },
     "execution_count": 22,
     "metadata": {},
     "output_type": "execute_result"
    }
   ],
   "source": [
    "df.mes.value_counts()"
   ]
  },
  {
   "cell_type": "markdown",
   "metadata": {},
   "source": [
    "- Como meses são variáveis qualitativas ordinais, seria ideal ordenar numericamente cada mês. "
   ]
  },
  {
   "cell_type": "code",
   "execution_count": 23,
   "metadata": {},
   "outputs": [],
   "source": [
    "month_map = { 'January':1,\n",
    "              'February':2,\n",
    "              'March':3,\n",
    "              'April':4,\n",
    "              'May':5,\n",
    "              'June':6,\n",
    "              'july':7,\n",
    "              'August':8}\n",
    "\n",
    "df['mes'] = df['mes'].map(month_map)\n",
    "df['mes'] = pd.to_numeric(df['mes'], errors = 'coerce').astype('Int64')\n"
   ]
  },
  {
   "cell_type": "markdown",
   "metadata": {},
   "source": [
    "- São 12.500 valores em cada mês de Janeiro até o mês de Agosto, há Missing Values."
   ]
  },
  {
   "cell_type": "markdown",
   "metadata": {},
   "source": [
    "#### 2. Qual é a distribuição da idade dos clientes?"
   ]
  },
  {
   "cell_type": "code",
   "execution_count": 24,
   "metadata": {},
   "outputs": [
    {
     "data": {
      "text/plain": [
       "39      4198\n",
       "32      4189\n",
       "28      4173\n",
       "26      4140\n",
       "35      4130\n",
       "        ... \n",
       "529        1\n",
       "8386       1\n",
       "5924       1\n",
       "6427       1\n",
       "5826       1\n",
       "Name: idade, Length: 2355, dtype: Int64"
      ]
     },
     "execution_count": 24,
     "metadata": {},
     "output_type": "execute_result"
    }
   ],
   "source": [
    "df.idade.value_counts().sort_values(ascending = False)"
   ]
  },
  {
   "cell_type": "code",
   "execution_count": 25,
   "metadata": {},
   "outputs": [
    {
     "data": {
      "text/plain": [
       "<IntegerArray>\n",
       "[  23, -500, <NA>,   28,   34,   54,   55,   21,   31,   33,\n",
       " ...\n",
       " 5038, 1365, 2200, 8361,  459, 3054, 5586,  326, 7910, 5826]\n",
       "Length: 2356, dtype: Int64"
      ]
     },
     "execution_count": 25,
     "metadata": {},
     "output_type": "execute_result"
    }
   ],
   "source": [
    "df.idade.unique()"
   ]
  },
  {
   "cell_type": "code",
   "execution_count": 26,
   "metadata": {},
   "outputs": [
    {
     "data": {
      "text/plain": [
       "8698"
      ]
     },
     "execution_count": 26,
     "metadata": {},
     "output_type": "execute_result"
    }
   ],
   "source": [
    "df.idade.max()"
   ]
  },
  {
   "cell_type": "code",
   "execution_count": 27,
   "metadata": {},
   "outputs": [
    {
     "data": {
      "text/plain": [
       "-500"
      ]
     },
     "execution_count": 27,
     "metadata": {},
     "output_type": "execute_result"
    }
   ],
   "source": [
    "df.idade.min()"
   ]
  },
  {
   "cell_type": "markdown",
   "metadata": {},
   "source": [
    "- Temos idades fora da realidade, -500, 1342, 669, 2620, e valores com NA. Será preciso entender melhor o que acontece,\n",
    "mas utilizando o value_counts as idades 38, 28 e 31 apareceram com mais frequência."
   ]
  },
  {
   "cell_type": "markdown",
   "metadata": {},
   "source": [
    "#### 3. Qual é a distribuição das profissões dos clientes?"
   ]
  },
  {
   "cell_type": "code",
   "execution_count": 28,
   "metadata": {},
   "outputs": [
    {
     "data": {
      "text/plain": [
       "Text(0.5, 0, 'Profissão')"
      ]
     },
     "execution_count": 28,
     "metadata": {},
     "output_type": "execute_result"
    },
    {
     "data": {
      "image/png": "[encoded data removed]",
      "text/plain": [
       "<Figure size 1400x700 with 1 Axes>"
      ]
     },
     "metadata": {},
     "output_type": "display_data"
    }
   ],
   "source": [
    "sns.set(style='darkgrid')\n",
    "profissao_plot = sns.countplot(x = 'profissao', data = df, order = df['profissao'].value_counts().index)\n",
    "profissao_plot.set_xticklabels(profissao_plot.get_xticklabels(), rotation=45)\n",
    "plt.ylabel('Frequência', fontsize=10)\n",
    "plt.xlabel('Profissão', fontsize=10)\n"
   ]
  },
  {
   "cell_type": "markdown",
   "metadata": {},
   "source": [
    "- Indefinidos e Advogados são os mais frequentes, seguidos por Arquitetos, Engenheiros, Cientistas e Mecânicos.\n",
    "- Será preciso descobrir se esses Indefinidos alteram a análise se caso forem excluídos."
   ]
  },
  {
   "cell_type": "markdown",
   "metadata": {},
   "source": [
    "#### 4. Qual é a distribuição da renda anual dos clientes?"
   ]
  },
  {
   "cell_type": "code",
   "execution_count": 29,
   "metadata": {},
   "outputs": [
    {
     "data": {
      "text/plain": [
       "36585.12       24\n",
       "17816.75       23\n",
       "20867.67       23\n",
       "9141.63        23\n",
       "95596.35       23\n",
       "               ..\n",
       "15096047.00     1\n",
       "6054600.00      1\n",
       "3845546.00      1\n",
       "22269915.00     1\n",
       "250738.00       1\n",
       "Name: renda_anual, Length: 13902, dtype: int64"
      ]
     },
     "execution_count": 29,
     "metadata": {},
     "output_type": "execute_result"
    }
   ],
   "source": [
    "df.renda_anual.value_counts().sort_values(ascending=False)"
   ]
  },
  {
   "cell_type": "code",
   "execution_count": null,
   "metadata": {},
   "outputs": [],
   "source": []
  }
 ],
 "metadata": {
  "kernelspec": {
   "display_name": "Python 3",
   "language": "python",
   "name": "python3"
  },
  "language_info": {
   "codemirror_mode": {
    "name": "ipython",
    "version": 3
   },
   "file_extension": ".py",
   "mimetype": "text/x-python",
   "name": "python",
   "nbconvert_exporter": "python",
   "pygments_lexer": "ipython3",
   "version": "3.12.0"
  }
 },
 "nbformat": 4,
 "nbformat_minor": 2
}
